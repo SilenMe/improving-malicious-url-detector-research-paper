{
  "nbformat": 4,
  "nbformat_minor": 0,
  "metadata": {
    "colab": {
      "name": "assignment 1 17260.ipynb",
      "provenance": [],
      "collapsed_sections": [],
      "authorship_tag": "ABX9TyNDLmVbdvIMEf9XxSvOPYlj",
      "include_colab_link": true
    },
    "kernelspec": {
      "name": "python3",
      "display_name": "Python 3"
    },
    "language_info": {
      "name": "python"
    }
  },
  "cells": [
    {
      "cell_type": "markdown",
      "metadata": {
        "id": "view-in-github",
        "colab_type": "text"
      },
      "source": [
        "<a href=\"https://colab.research.google.com/github/SilenMe/improving-malicious-url-detector-research-paper/blob/main/assignment_1_17260.ipynb\" target=\"_parent\"><img src=\"https://colab.research.google.com/assets/colab-badge.svg\" alt=\"Open In Colab\"/></a>"
      ]
    },
    {
      "cell_type": "markdown",
      "metadata": {
        "id": "2Os4fx70cWFZ"
      },
      "source": [
        "note: you will need capture.jpg and urldata.csv to run this notebook. Hover to https://github.com/SilenMe/improving-malicious-url-detector-research-paper for files and a copy of this repository"
      ]
    },
    {
      "cell_type": "code",
      "metadata": {
        "id": "CJlNujNG1Epp"
      },
      "source": [
        "import numpy as np \n",
        "import pandas as pd \n",
        "\n",
        "import matplotlib.pyplot as plt\n",
        "import seaborn as sns\n"
      ],
      "execution_count": 1,
      "outputs": []
    },
    {
      "cell_type": "code",
      "metadata": {
        "id": "1Ug1vS4x1v-Y"
      },
      "source": [
        "urldata = pd.read_csv(\"urldata.csv\")"
      ],
      "execution_count": 2,
      "outputs": []
    },
    {
      "cell_type": "code",
      "metadata": {
        "colab": {
          "base_uri": "https://localhost:8080/",
          "height": 380
        },
        "id": "klxqRAgx2_OD",
        "outputId": "392dccb7-48cb-4ac9-d23a-0c6da82ca7a9"
      },
      "source": [
        "plt.figure(figsize=(15,5))\n",
        "sns.countplot(x='label',data=urldata)\n",
        "plt.title(\"Count Of URLs\",fontsize=20)\n",
        "plt.xlabel(\"Type Of URLs\",fontsize=18)\n",
        "plt.ylabel(\"Number Of URLs\",fontsize=18)"
      ],
      "execution_count": 3,
      "outputs": [
        {
          "output_type": "execute_result",
          "data": {
            "text/plain": [
              "Text(0, 0.5, 'Number Of URLs')"
            ]
          },
          "metadata": {
            "tags": []
          },
          "execution_count": 3
        },
        {
          "output_type": "display_data",
          "data": {
            "image/png": "[encoded data removed]",
            "text/plain": [
              "<Figure size 1080x360 with 1 Axes>"
            ]
          },
          "metadata": {
            "tags": [],
            "needs_background": "light"
          }
        }
      ]
    },
    {
      "cell_type": "markdown",
      "metadata": {
        "id": "2ki5wCFg3SnD"
      },
      "source": [
        "since 'benign' sites are more so it will affect the accuracy so decreasing the no. of benign urls"
      ]
    },
    {
      "cell_type": "code",
      "metadata": {
        "colab": {
          "base_uri": "https://localhost:8080/",
          "height": 204
        },
        "id": "mKcKZw763EpG",
        "outputId": "a701ed1b-f128-4c20-9fd5-3ff47cff0142"
      },
      "source": [
        "urldata.head()"
      ],
      "execution_count": 4,
      "outputs": [
        {
          "output_type": "execute_result",
          "data": {
            "text/html": [
              "<div>\n",
              "<style scoped>\n",
              "    .dataframe tbody tr th:only-of-type {\n",
              "        vertical-align: middle;\n",
              "    }\n",
              "\n",
              "    .dataframe tbody tr th {\n",
              "        vertical-align: top;\n",
              "    }\n",
              "\n",
              "    .dataframe thead th {\n",
              "        text-align: right;\n",
              "    }\n",
              "</style>\n",
              "<table border=\"1\" class=\"dataframe\">\n",
              "  <thead>\n",
              "    <tr style=\"text-align: right;\">\n",
              "      <th></th>\n",
              "      <th>Unnamed: 0</th>\n",
              "      <th>url</th>\n",
              "      <th>label</th>\n",
              "      <th>result</th>\n",
              "    </tr>\n",
              "  </thead>\n",
              "  <tbody>\n",
              "    <tr>\n",
              "      <th>0</th>\n",
              "      <td>0</td>\n",
              "      <td>https://www.google.com</td>\n",
              "      <td>benign</td>\n",
              "      <td>0</td>\n",
              "    </tr>\n",
              "    <tr>\n",
              "      <th>1</th>\n",
              "      <td>1</td>\n",
              "      <td>https://www.youtube.com</td>\n",
              "      <td>benign</td>\n",
              "      <td>0</td>\n",
              "    </tr>\n",
              "    <tr>\n",
              "      <th>2</th>\n",
              "      <td>2</td>\n",
              "      <td>https://www.facebook.com</td>\n",
              "      <td>benign</td>\n",
              "      <td>0</td>\n",
              "    </tr>\n",
              "    <tr>\n",
              "      <th>3</th>\n",
              "      <td>3</td>\n",
              "      <td>https://www.baidu.com</td>\n",
              "      <td>benign</td>\n",
              "      <td>0</td>\n",
              "    </tr>\n",
              "    <tr>\n",
              "      <th>4</th>\n",
              "      <td>4</td>\n",
              "      <td>https://www.wikipedia.org</td>\n",
              "      <td>benign</td>\n",
              "      <td>0</td>\n",
              "    </tr>\n",
              "  </tbody>\n",
              "</table>\n",
              "</div>"
            ],
            "text/plain": [
              "   Unnamed: 0                        url   label  result\n",
              "0           0     https://www.google.com  benign       0\n",
              "1           1    https://www.youtube.com  benign       0\n",
              "2           2   https://www.facebook.com  benign       0\n",
              "3           3      https://www.baidu.com  benign       0\n",
              "4           4  https://www.wikipedia.org  benign       0"
            ]
          },
          "metadata": {
            "tags": []
          },
          "execution_count": 4
        }
      ]
    },
    {
      "cell_type": "code",
      "metadata": {
        "colab": {
          "base_uri": "https://localhost:8080/"
        },
        "id": "tcBHPfKA3ph-",
        "outputId": "2822408a-cda3-4057-f7b5-6df34935f30d"
      },
      "source": [
        "benignDF = urldata[urldata['result'] == 0]\n",
        "benignDF.shape"
      ],
      "execution_count": 5,
      "outputs": [
        {
          "output_type": "execute_result",
          "data": {
            "text/plain": [
              "(345738, 4)"
            ]
          },
          "metadata": {
            "tags": []
          },
          "execution_count": 5
        }
      ]
    },
    {
      "cell_type": "code",
      "metadata": {
        "colab": {
          "base_uri": "https://localhost:8080/"
        },
        "id": "SNrd7cHq4fzl",
        "outputId": "f3472522-80e0-43e5-8e20-d1add7099cb7"
      },
      "source": [
        "maliciousDF = urldata[urldata['result'] == 1]\n",
        "maliciousDF.shape"
      ],
      "execution_count": 6,
      "outputs": [
        {
          "output_type": "execute_result",
          "data": {
            "text/plain": [
              "(104438, 4)"
            ]
          },
          "metadata": {
            "tags": []
          },
          "execution_count": 6
        }
      ]
    },
    {
      "cell_type": "code",
      "metadata": {
        "colab": {
          "base_uri": "https://localhost:8080/"
        },
        "id": "JyFEG6qr4xr8",
        "outputId": "d8e2abf4-6b32-4d08-efb2-5c76352ba1e2"
      },
      "source": [
        "benignDF=benignDF[:104438]\n",
        "benignDF.shape"
      ],
      "execution_count": 7,
      "outputs": [
        {
          "output_type": "execute_result",
          "data": {
            "text/plain": [
              "(104438, 4)"
            ]
          },
          "metadata": {
            "tags": []
          },
          "execution_count": 7
        }
      ]
    },
    {
      "cell_type": "markdown",
      "metadata": {
        "id": "-J7rK5CW5CVv"
      },
      "source": [
        "now both are same in number so the result wouldn't be baised"
      ]
    },
    {
      "cell_type": "code",
      "metadata": {
        "colab": {
          "base_uri": "https://localhost:8080/",
          "height": 669
        },
        "id": "xwRCDoUR471T",
        "outputId": "7c49da4e-6d93-4f79-e9e4-98df114df5f1"
      },
      "source": [
        "f=[benignDF,maliciousDF]\n",
        "result = pd.concat(f)\n",
        "result.head(20)"
      ],
      "execution_count": 8,
      "outputs": [
        {
          "output_type": "execute_result",
          "data": {
            "text/html": [
              "<div>\n",
              "<style scoped>\n",
              "    .dataframe tbody tr th:only-of-type {\n",
              "        vertical-align: middle;\n",
              "    }\n",
              "\n",
              "    .dataframe tbody tr th {\n",
              "        vertical-align: top;\n",
              "    }\n",
              "\n",
              "    .dataframe thead th {\n",
              "        text-align: right;\n",
              "    }\n",
              "</style>\n",
              "<table border=\"1\" class=\"dataframe\">\n",
              "  <thead>\n",
              "    <tr style=\"text-align: right;\">\n",
              "      <th></th>\n",
              "      <th>Unnamed: 0</th>\n",
              "      <th>url</th>\n",
              "      <th>label</th>\n",
              "      <th>result</th>\n",
              "    </tr>\n",
              "  </thead>\n",
              "  <tbody>\n",
              "    <tr>\n",
              "      <th>0</th>\n",
              "      <td>0</td>\n",
              "      <td>https://www.google.com</td>\n",
              "      <td>benign</td>\n",
              "      <td>0</td>\n",
              "    </tr>\n",
              "    <tr>\n",
              "      <th>1</th>\n",
              "      <td>1</td>\n",
              "      <td>https://www.youtube.com</td>\n",
              "      <td>benign</td>\n",
              "      <td>0</td>\n",
              "    </tr>\n",
              "    <tr>\n",
              "      <th>2</th>\n",
              "      <td>2</td>\n",
              "      <td>https://www.facebook.com</td>\n",
              "      <td>benign</td>\n",
              "      <td>0</td>\n",
              "    </tr>\n",
              "    <tr>\n",
              "      <th>3</th>\n",
              "      <td>3</td>\n",
              "      <td>https://www.baidu.com</td>\n",
              "      <td>benign</td>\n",
              "      <td>0</td>\n",
              "    </tr>\n",
              "    <tr>\n",
              "      <th>4</th>\n",
              "      <td>4</td>\n",
              "      <td>https://www.wikipedia.org</td>\n",
              "      <td>benign</td>\n",
              "      <td>0</td>\n",
              "    </tr>\n",
              "    <tr>\n",
              "      <th>5</th>\n",
              "      <td>5</td>\n",
              "      <td>https://www.reddit.com</td>\n",
              "      <td>benign</td>\n",
              "      <td>0</td>\n",
              "    </tr>\n",
              "    <tr>\n",
              "      <th>6</th>\n",
              "      <td>6</td>\n",
              "      <td>https://www.yahoo.com</td>\n",
              "      <td>benign</td>\n",
              "      <td>0</td>\n",
              "    </tr>\n",
              "    <tr>\n",
              "      <th>7</th>\n",
              "      <td>7</td>\n",
              "      <td>https://www.google.co.in</td>\n",
              "      <td>benign</td>\n",
              "      <td>0</td>\n",
              "    </tr>\n",
              "    <tr>\n",
              "      <th>8</th>\n",
              "      <td>8</td>\n",
              "      <td>https://www.qq.com</td>\n",
              "      <td>benign</td>\n",
              "      <td>0</td>\n",
              "    </tr>\n",
              "    <tr>\n",
              "      <th>9</th>\n",
              "      <td>9</td>\n",
              "      <td>https://www.amazon.com</td>\n",
              "      <td>benign</td>\n",
              "      <td>0</td>\n",
              "    </tr>\n",
              "    <tr>\n",
              "      <th>10</th>\n",
              "      <td>10</td>\n",
              "      <td>https://www.taobao.com</td>\n",
              "      <td>benign</td>\n",
              "      <td>0</td>\n",
              "    </tr>\n",
              "    <tr>\n",
              "      <th>11</th>\n",
              "      <td>11</td>\n",
              "      <td>https://www.twitter.com</td>\n",
              "      <td>benign</td>\n",
              "      <td>0</td>\n",
              "    </tr>\n",
              "    <tr>\n",
              "      <th>12</th>\n",
              "      <td>12</td>\n",
              "      <td>https://www.tmall.com</td>\n",
              "      <td>benign</td>\n",
              "      <td>0</td>\n",
              "    </tr>\n",
              "    <tr>\n",
              "      <th>13</th>\n",
              "      <td>13</td>\n",
              "      <td>https://www.google.co.jp</td>\n",
              "      <td>benign</td>\n",
              "      <td>0</td>\n",
              "    </tr>\n",
              "    <tr>\n",
              "      <th>14</th>\n",
              "      <td>14</td>\n",
              "      <td>https://www.vk.com</td>\n",
              "      <td>benign</td>\n",
              "      <td>0</td>\n",
              "    </tr>\n",
              "    <tr>\n",
              "      <th>15</th>\n",
              "      <td>15</td>\n",
              "      <td>https://www.live.com</td>\n",
              "      <td>benign</td>\n",
              "      <td>0</td>\n",
              "    </tr>\n",
              "    <tr>\n",
              "      <th>16</th>\n",
              "      <td>16</td>\n",
              "      <td>https://www.instagram.com</td>\n",
              "      <td>benign</td>\n",
              "      <td>0</td>\n",
              "    </tr>\n",
              "    <tr>\n",
              "      <th>17</th>\n",
              "      <td>17</td>\n",
              "      <td>https://www.sohu.com</td>\n",
              "      <td>benign</td>\n",
              "      <td>0</td>\n",
              "    </tr>\n",
              "    <tr>\n",
              "      <th>18</th>\n",
              "      <td>18</td>\n",
              "      <td>https://www.sina.com.cn</td>\n",
              "      <td>benign</td>\n",
              "      <td>0</td>\n",
              "    </tr>\n",
              "    <tr>\n",
              "      <th>19</th>\n",
              "      <td>19</td>\n",
              "      <td>https://www.jd.com</td>\n",
              "      <td>benign</td>\n",
              "      <td>0</td>\n",
              "    </tr>\n",
              "  </tbody>\n",
              "</table>\n",
              "</div>"
            ],
            "text/plain": [
              "    Unnamed: 0                        url   label  result\n",
              "0            0     https://www.google.com  benign       0\n",
              "1            1    https://www.youtube.com  benign       0\n",
              "2            2   https://www.facebook.com  benign       0\n",
              "3            3      https://www.baidu.com  benign       0\n",
              "4            4  https://www.wikipedia.org  benign       0\n",
              "5            5     https://www.reddit.com  benign       0\n",
              "6            6      https://www.yahoo.com  benign       0\n",
              "7            7   https://www.google.co.in  benign       0\n",
              "8            8         https://www.qq.com  benign       0\n",
              "9            9     https://www.amazon.com  benign       0\n",
              "10          10     https://www.taobao.com  benign       0\n",
              "11          11    https://www.twitter.com  benign       0\n",
              "12          12      https://www.tmall.com  benign       0\n",
              "13          13   https://www.google.co.jp  benign       0\n",
              "14          14         https://www.vk.com  benign       0\n",
              "15          15       https://www.live.com  benign       0\n",
              "16          16  https://www.instagram.com  benign       0\n",
              "17          17       https://www.sohu.com  benign       0\n",
              "18          18    https://www.sina.com.cn  benign       0\n",
              "19          19         https://www.jd.com  benign       0"
            ]
          },
          "metadata": {
            "tags": []
          },
          "execution_count": 8
        }
      ]
    },
    {
      "cell_type": "code",
      "metadata": {
        "colab": {
          "base_uri": "https://localhost:8080/",
          "height": 380
        },
        "id": "yFFS0_Np6c6T",
        "outputId": "58a1003f-5697-4ac1-a078-a5f9c3f955a8"
      },
      "source": [
        "plt.figure(figsize=(15,5))\n",
        "sns.countplot(x='label',data=result)\n",
        "plt.title(\"Count Of URLs\",fontsize=20)\n",
        "plt.xlabel(\"Type Of URLs\",fontsize=18)\n",
        "plt.ylabel(\"Number Of URLs\",fontsize=18)"
      ],
      "execution_count": 9,
      "outputs": [
        {
          "output_type": "execute_result",
          "data": {
            "text/plain": [
              "Text(0, 0.5, 'Number Of URLs')"
            ]
          },
          "metadata": {
            "tags": []
          },
          "execution_count": 9
        },
        {
          "output_type": "display_data",
          "data": {
            "image/png": "[encoded data removed]",
            "text/plain": [
              "<Figure size 1080x360 with 1 Axes>"
            ]
          },
          "metadata": {
            "tags": [],
            "needs_background": "light"
          }
        }
      ]
    },
    {
      "cell_type": "markdown",
      "metadata": {
        "id": "pv87QzRF6s2E"
      },
      "source": [
        "### we got the balenced data and the data size is also significant"
      ]
    },
    {
      "cell_type": "code",
      "metadata": {
        "colab": {
          "base_uri": "https://localhost:8080/",
          "height": 204
        },
        "id": "uyFGuL8V6qcV",
        "outputId": "eafd6df6-e01e-491a-8c38-1316983804a6"
      },
      "source": [
        "urldata=result\n",
        "urldata = urldata.drop('Unnamed: 0',axis=1)\n",
        "urldata.head()"
      ],
      "execution_count": 10,
      "outputs": [
        {
          "output_type": "execute_result",
          "data": {
            "text/html": [
              "<div>\n",
              "<style scoped>\n",
              "    .dataframe tbody tr th:only-of-type {\n",
              "        vertical-align: middle;\n",
              "    }\n",
              "\n",
              "    .dataframe tbody tr th {\n",
              "        vertical-align: top;\n",
              "    }\n",
              "\n",
              "    .dataframe thead th {\n",
              "        text-align: right;\n",
              "    }\n",
              "</style>\n",
              "<table border=\"1\" class=\"dataframe\">\n",
              "  <thead>\n",
              "    <tr style=\"text-align: right;\">\n",
              "      <th></th>\n",
              "      <th>url</th>\n",
              "      <th>label</th>\n",
              "      <th>result</th>\n",
              "    </tr>\n",
              "  </thead>\n",
              "  <tbody>\n",
              "    <tr>\n",
              "      <th>0</th>\n",
              "      <td>https://www.google.com</td>\n",
              "      <td>benign</td>\n",
              "      <td>0</td>\n",
              "    </tr>\n",
              "    <tr>\n",
              "      <th>1</th>\n",
              "      <td>https://www.youtube.com</td>\n",
              "      <td>benign</td>\n",
              "      <td>0</td>\n",
              "    </tr>\n",
              "    <tr>\n",
              "      <th>2</th>\n",
              "      <td>https://www.facebook.com</td>\n",
              "      <td>benign</td>\n",
              "      <td>0</td>\n",
              "    </tr>\n",
              "    <tr>\n",
              "      <th>3</th>\n",
              "      <td>https://www.baidu.com</td>\n",
              "      <td>benign</td>\n",
              "      <td>0</td>\n",
              "    </tr>\n",
              "    <tr>\n",
              "      <th>4</th>\n",
              "      <td>https://www.wikipedia.org</td>\n",
              "      <td>benign</td>\n",
              "      <td>0</td>\n",
              "    </tr>\n",
              "  </tbody>\n",
              "</table>\n",
              "</div>"
            ],
            "text/plain": [
              "                         url   label  result\n",
              "0     https://www.google.com  benign       0\n",
              "1    https://www.youtube.com  benign       0\n",
              "2   https://www.facebook.com  benign       0\n",
              "3      https://www.baidu.com  benign       0\n",
              "4  https://www.wikipedia.org  benign       0"
            ]
          },
          "metadata": {
            "tags": []
          },
          "execution_count": 10
        }
      ]
    },
    {
      "cell_type": "code",
      "metadata": {
        "colab": {
          "base_uri": "https://localhost:8080/"
        },
        "id": "D6f9Czwc7G11",
        "outputId": "1107eea8-07a2-4efa-f705-27f9a168a7f0"
      },
      "source": [
        "urldata.shape"
      ],
      "execution_count": 11,
      "outputs": [
        {
          "output_type": "execute_result",
          "data": {
            "text/plain": [
              "(208876, 3)"
            ]
          },
          "metadata": {
            "tags": []
          },
          "execution_count": 11
        }
      ]
    },
    {
      "cell_type": "code",
      "metadata": {
        "colab": {
          "base_uri": "https://localhost:8080/"
        },
        "id": "wfHa06UF7KZN",
        "outputId": "67a87dba-20a2-4c44-f265-197b8f840854"
      },
      "source": [
        "urldata.info() #label:  malicious or benign"
      ],
      "execution_count": 12,
      "outputs": [
        {
          "output_type": "stream",
          "text": [
            "<class 'pandas.core.frame.DataFrame'>\n",
            "Int64Index: 208876 entries, 0 to 450175\n",
            "Data columns (total 3 columns):\n",
            " #   Column  Non-Null Count   Dtype \n",
            "---  ------  --------------   ----- \n",
            " 0   url     208876 non-null  object\n",
            " 1   label   208876 non-null  object\n",
            " 2   result  208876 non-null  int64 \n",
            "dtypes: int64(1), object(2)\n",
            "memory usage: 16.4+ MB\n"
          ],
          "name": "stdout"
        }
      ]
    },
    {
      "cell_type": "markdown",
      "metadata": {
        "id": "WTPtJQ8N7XNy"
      },
      "source": [
        "# feature extraction\n",
        "ref: https://www.sciencedirect.com/science/article/pii/S0306437920300053  \n",
        "ref: https://www.ibm.com/docs/SSGMCP_5.1.0/com.ibm.cics.ts.internet.doc/topics/dfhtl_uricomp.html\n",
        "\n",
        "we need features that saperates the good and malicious URL. The best methode is extract from Keywords in a URL. It contain important information that can be used to judge whether a URL is malicious. The selected keywords include: alipay, jd, safety, paypal, google, apple, facebook, amazon, porn, gamble, and awarding. Such keywords are frequently used to counterfeit famous websites and deceive the users.  \n",
        "We are selecting thsse features from URL:  \n",
        "1. domain_length: The length of the domain url.\n",
        "2. if_com :\tIf the top level domain name is “.com”  \n",
        "3. pure_domain_length: The length of the pure domain or say 'Length of Hostname'  \n",
        "4. Length Of Top Level Domain  \n",
        "5. Length Of Path  \n",
        "6. Use of IP or not  \n",
        "7. Use of Shortening URL or not  \n",
        "These are the main attributes of an url and Good URL and Malicious URL differs a lot on these attributes.  \n",
        "\n",
        "Some other attributes as deciding factor is Fount Feature beacuse malicious URL are generally very long, it cantains a lot of redirection to other sites, a number of pop-ups etc. so count feature is also very important:\n",
        "1. Count Of '-'\n",
        "2. Count Of '@' : \n",
        "3. Count Of '?' : “?” in URL acts as separator\n",
        "4. Count Of '%' : normally used for encoding\n",
        "5. Count Of '.' : a url component saparator\n",
        "6. Count Of '=' : \n",
        "7. Count Of 'http' : malicious URL are usually uses 'http' protocol rather than 'https' \n",
        "8. Count Of 'www'\n",
        "9. Count Of Digits\n",
        "10. Count Of Letters\n",
        "11. Count Of Number Of Directories : '/' is used for directory hierarchy\n",
        "\n",
        "\n"
      ]
    },
    {
      "cell_type": "code",
      "metadata": {
        "colab": {
          "base_uri": "https://localhost:8080/",
          "height": 204
        },
        "id": "LJ-YE51U7RJd",
        "outputId": "281897e3-e02e-413d-be7c-ffeed3005f0a"
      },
      "source": [
        "urldata['url_length'] = urldata['url'].apply(lambda i: len(str(i)))\n",
        "urldata.head()"
      ],
      "execution_count": 13,
      "outputs": [
        {
          "output_type": "execute_result",
          "data": {
            "text/html": [
              "<div>\n",
              "<style scoped>\n",
              "    .dataframe tbody tr th:only-of-type {\n",
              "        vertical-align: middle;\n",
              "    }\n",
              "\n",
              "    .dataframe tbody tr th {\n",
              "        vertical-align: top;\n",
              "    }\n",
              "\n",
              "    .dataframe thead th {\n",
              "        text-align: right;\n",
              "    }\n",
              "</style>\n",
              "<table border=\"1\" class=\"dataframe\">\n",
              "  <thead>\n",
              "    <tr style=\"text-align: right;\">\n",
              "      <th></th>\n",
              "      <th>url</th>\n",
              "      <th>label</th>\n",
              "      <th>result</th>\n",
              "      <th>url_length</th>\n",
              "    </tr>\n",
              "  </thead>\n",
              "  <tbody>\n",
              "    <tr>\n",
              "      <th>0</th>\n",
              "      <td>https://www.google.com</td>\n",
              "      <td>benign</td>\n",
              "      <td>0</td>\n",
              "      <td>22</td>\n",
              "    </tr>\n",
              "    <tr>\n",
              "      <th>1</th>\n",
              "      <td>https://www.youtube.com</td>\n",
              "      <td>benign</td>\n",
              "      <td>0</td>\n",
              "      <td>23</td>\n",
              "    </tr>\n",
              "    <tr>\n",
              "      <th>2</th>\n",
              "      <td>https://www.facebook.com</td>\n",
              "      <td>benign</td>\n",
              "      <td>0</td>\n",
              "      <td>24</td>\n",
              "    </tr>\n",
              "    <tr>\n",
              "      <th>3</th>\n",
              "      <td>https://www.baidu.com</td>\n",
              "      <td>benign</td>\n",
              "      <td>0</td>\n",
              "      <td>21</td>\n",
              "    </tr>\n",
              "    <tr>\n",
              "      <th>4</th>\n",
              "      <td>https://www.wikipedia.org</td>\n",
              "      <td>benign</td>\n",
              "      <td>0</td>\n",
              "      <td>25</td>\n",
              "    </tr>\n",
              "  </tbody>\n",
              "</table>\n",
              "</div>"
            ],
            "text/plain": [
              "                         url   label  result  url_length\n",
              "0     https://www.google.com  benign       0          22\n",
              "1    https://www.youtube.com  benign       0          23\n",
              "2   https://www.facebook.com  benign       0          24\n",
              "3      https://www.baidu.com  benign       0          21\n",
              "4  https://www.wikipedia.org  benign       0          25"
            ]
          },
          "metadata": {
            "tags": []
          },
          "execution_count": 13
        }
      ]
    },
    {
      "cell_type": "markdown",
      "metadata": {
        "id": "GjfNHxCT7ihU"
      },
      "source": [
        "### importing some packages for working with url:\n",
        "1. tld · PyPI: Extract the top level domain (TLD) from the URL given. ref: https://pypi.org/project/tld/  \n",
        "2. urllib.parse : This module provides a standard interface to break Uniform Resource Locator (URL) strings in components or to combine the components back into a URL string. It also has functions to convert a \"relative URL\" to an absolute URL given a \"base URL.\" \n",
        "ref: https://docs.python.org/3/library/urllib.parse.html "
      ]
    },
    {
      "cell_type": "code",
      "metadata": {
        "colab": {
          "base_uri": "https://localhost:8080/"
        },
        "id": "WS5nz_Jy7p0F",
        "outputId": "b2e9e372-6bb8-4e77-9f34-e4baea6aff91"
      },
      "source": [
        "!pip3 install tld"
      ],
      "execution_count": 14,
      "outputs": [
        {
          "output_type": "stream",
          "text": [
            "Requirement already satisfied: tld in /usr/local/lib/python3.7/dist-packages (0.12.6)\n"
          ],
          "name": "stdout"
        }
      ]
    },
    {
      "cell_type": "code",
      "metadata": {
        "id": "vpPNKThn7dl7"
      },
      "source": [
        "from urllib.parse import urlparse\n",
        "from tld import get_tld\n",
        "import os.path"
      ],
      "execution_count": 15,
      "outputs": []
    },
    {
      "cell_type": "code",
      "metadata": {
        "colab": {
          "base_uri": "https://localhost:8080/",
          "height": 204
        },
        "id": "wwwUPX0B7moE",
        "outputId": "e617802d-4ca6-4751-af06-82d1af818619"
      },
      "source": [
        "#Length of URL\n",
        "urldata['url_length'] = urldata['url'].apply(lambda i: len(str(i)))\n",
        "#Hostname Length\n",
        "urldata['hostname_length'] = urldata['url'].apply(lambda i: len(urlparse(i).netloc))\n",
        "#Path Length\n",
        "urldata['path_length'] = urldata['url'].apply(lambda i: len(urlparse(i).path))\n",
        "#First Directory Length\n",
        "def fd_length(url):\n",
        "    urlpath= urlparse(url).path\n",
        "    try:\n",
        "        return len(urlpath.split('/')[1])\n",
        "    except:\n",
        "        return 0\n",
        "\n",
        "urldata['fd_length'] = urldata['url'].apply(lambda i: fd_length(i))\n",
        "#Length of Top Level Domain\n",
        "urldata['tld'] = urldata['url'].apply(lambda i: get_tld(i,fail_silently=True))\n",
        "def tld_length(tld):\n",
        "    try:\n",
        "        return len(tld)\n",
        "    except:\n",
        "        return -1\n",
        "\n",
        "urldata['tld_length'] = urldata['tld'].apply(lambda i: tld_length(i))\n",
        "urldata.head()"
      ],
      "execution_count": 16,
      "outputs": [
        {
          "output_type": "execute_result",
          "data": {
            "text/html": [
              "<div>\n",
              "<style scoped>\n",
              "    .dataframe tbody tr th:only-of-type {\n",
              "        vertical-align: middle;\n",
              "    }\n",
              "\n",
              "    .dataframe tbody tr th {\n",
              "        vertical-align: top;\n",
              "    }\n",
              "\n",
              "    .dataframe thead th {\n",
              "        text-align: right;\n",
              "    }\n",
              "</style>\n",
              "<table border=\"1\" class=\"dataframe\">\n",
              "  <thead>\n",
              "    <tr style=\"text-align: right;\">\n",
              "      <th></th>\n",
              "      <th>url</th>\n",
              "      <th>label</th>\n",
              "      <th>result</th>\n",
              "      <th>url_length</th>\n",
              "      <th>hostname_length</th>\n",
              "      <th>path_length</th>\n",
              "      <th>fd_length</th>\n",
              "      <th>tld</th>\n",
              "      <th>tld_length</th>\n",
              "    </tr>\n",
              "  </thead>\n",
              "  <tbody>\n",
              "    <tr>\n",
              "      <th>0</th>\n",
              "      <td>https://www.google.com</td>\n",
              "      <td>benign</td>\n",
              "      <td>0</td>\n",
              "      <td>22</td>\n",
              "      <td>14</td>\n",
              "      <td>0</td>\n",
              "      <td>0</td>\n",
              "      <td>com</td>\n",
              "      <td>3</td>\n",
              "    </tr>\n",
              "    <tr>\n",
              "      <th>1</th>\n",
              "      <td>https://www.youtube.com</td>\n",
              "      <td>benign</td>\n",
              "      <td>0</td>\n",
              "      <td>23</td>\n",
              "      <td>15</td>\n",
              "      <td>0</td>\n",
              "      <td>0</td>\n",
              "      <td>com</td>\n",
              "      <td>3</td>\n",
              "    </tr>\n",
              "    <tr>\n",
              "      <th>2</th>\n",
              "      <td>https://www.facebook.com</td>\n",
              "      <td>benign</td>\n",
              "      <td>0</td>\n",
              "      <td>24</td>\n",
              "      <td>16</td>\n",
              "      <td>0</td>\n",
              "      <td>0</td>\n",
              "      <td>com</td>\n",
              "      <td>3</td>\n",
              "    </tr>\n",
              "    <tr>\n",
              "      <th>3</th>\n",
              "      <td>https://www.baidu.com</td>\n",
              "      <td>benign</td>\n",
              "      <td>0</td>\n",
              "      <td>21</td>\n",
              "      <td>13</td>\n",
              "      <td>0</td>\n",
              "      <td>0</td>\n",
              "      <td>com</td>\n",
              "      <td>3</td>\n",
              "    </tr>\n",
              "    <tr>\n",
              "      <th>4</th>\n",
              "      <td>https://www.wikipedia.org</td>\n",
              "      <td>benign</td>\n",
              "      <td>0</td>\n",
              "      <td>25</td>\n",
              "      <td>17</td>\n",
              "      <td>0</td>\n",
              "      <td>0</td>\n",
              "      <td>org</td>\n",
              "      <td>3</td>\n",
              "    </tr>\n",
              "  </tbody>\n",
              "</table>\n",
              "</div>"
            ],
            "text/plain": [
              "                         url   label  result  ...  fd_length  tld  tld_length\n",
              "0     https://www.google.com  benign       0  ...          0  com           3\n",
              "1    https://www.youtube.com  benign       0  ...          0  com           3\n",
              "2   https://www.facebook.com  benign       0  ...          0  com           3\n",
              "3      https://www.baidu.com  benign       0  ...          0  com           3\n",
              "4  https://www.wikipedia.org  benign       0  ...          0  org           3\n",
              "\n",
              "[5 rows x 9 columns]"
            ]
          },
          "metadata": {
            "tags": []
          },
          "execution_count": 16
        }
      ]
    },
    {
      "cell_type": "markdown",
      "metadata": {
        "id": "xTi-K1IS72F9"
      },
      "source": [
        "we are using len(tld) because working with numbers is far better option is ML"
      ]
    },
    {
      "cell_type": "code",
      "metadata": {
        "colab": {
          "base_uri": "https://localhost:8080/",
          "height": 204
        },
        "id": "zoyN2yV87to7",
        "outputId": "5849ed39-f3f3-4e78-b87b-e30ab725f433"
      },
      "source": [
        "urldata = urldata.drop(\"tld\",1)# dropping because we have to work with len(tld) and we have got len(tld) with tld\n",
        "urldata.head()"
      ],
      "execution_count": 17,
      "outputs": [
        {
          "output_type": "execute_result",
          "data": {
            "text/html": [
              "<div>\n",
              "<style scoped>\n",
              "    .dataframe tbody tr th:only-of-type {\n",
              "        vertical-align: middle;\n",
              "    }\n",
              "\n",
              "    .dataframe tbody tr th {\n",
              "        vertical-align: top;\n",
              "    }\n",
              "\n",
              "    .dataframe thead th {\n",
              "        text-align: right;\n",
              "    }\n",
              "</style>\n",
              "<table border=\"1\" class=\"dataframe\">\n",
              "  <thead>\n",
              "    <tr style=\"text-align: right;\">\n",
              "      <th></th>\n",
              "      <th>url</th>\n",
              "      <th>label</th>\n",
              "      <th>result</th>\n",
              "      <th>url_length</th>\n",
              "      <th>hostname_length</th>\n",
              "      <th>path_length</th>\n",
              "      <th>fd_length</th>\n",
              "      <th>tld_length</th>\n",
              "    </tr>\n",
              "  </thead>\n",
              "  <tbody>\n",
              "    <tr>\n",
              "      <th>0</th>\n",
              "      <td>https://www.google.com</td>\n",
              "      <td>benign</td>\n",
              "      <td>0</td>\n",
              "      <td>22</td>\n",
              "      <td>14</td>\n",
              "      <td>0</td>\n",
              "      <td>0</td>\n",
              "      <td>3</td>\n",
              "    </tr>\n",
              "    <tr>\n",
              "      <th>1</th>\n",
              "      <td>https://www.youtube.com</td>\n",
              "      <td>benign</td>\n",
              "      <td>0</td>\n",
              "      <td>23</td>\n",
              "      <td>15</td>\n",
              "      <td>0</td>\n",
              "      <td>0</td>\n",
              "      <td>3</td>\n",
              "    </tr>\n",
              "    <tr>\n",
              "      <th>2</th>\n",
              "      <td>https://www.facebook.com</td>\n",
              "      <td>benign</td>\n",
              "      <td>0</td>\n",
              "      <td>24</td>\n",
              "      <td>16</td>\n",
              "      <td>0</td>\n",
              "      <td>0</td>\n",
              "      <td>3</td>\n",
              "    </tr>\n",
              "    <tr>\n",
              "      <th>3</th>\n",
              "      <td>https://www.baidu.com</td>\n",
              "      <td>benign</td>\n",
              "      <td>0</td>\n",
              "      <td>21</td>\n",
              "      <td>13</td>\n",
              "      <td>0</td>\n",
              "      <td>0</td>\n",
              "      <td>3</td>\n",
              "    </tr>\n",
              "    <tr>\n",
              "      <th>4</th>\n",
              "      <td>https://www.wikipedia.org</td>\n",
              "      <td>benign</td>\n",
              "      <td>0</td>\n",
              "      <td>25</td>\n",
              "      <td>17</td>\n",
              "      <td>0</td>\n",
              "      <td>0</td>\n",
              "      <td>3</td>\n",
              "    </tr>\n",
              "  </tbody>\n",
              "</table>\n",
              "</div>"
            ],
            "text/plain": [
              "                         url   label  ...  fd_length  tld_length\n",
              "0     https://www.google.com  benign  ...          0           3\n",
              "1    https://www.youtube.com  benign  ...          0           3\n",
              "2   https://www.facebook.com  benign  ...          0           3\n",
              "3      https://www.baidu.com  benign  ...          0           3\n",
              "4  https://www.wikipedia.org  benign  ...          0           3\n",
              "\n",
              "[5 rows x 8 columns]"
            ]
          },
          "metadata": {
            "tags": []
          },
          "execution_count": 17
        }
      ]
    },
    {
      "cell_type": "code",
      "metadata": {
        "colab": {
          "base_uri": "https://localhost:8080/",
          "height": 241
        },
        "id": "6CSedZ1l74pz",
        "outputId": "92bcc1be-3d13-4364-94d4-bee7546eaca0"
      },
      "source": [
        "urldata['count-'] = urldata['url'].apply(lambda i: i.count('-'))\n",
        "urldata['count@'] = urldata['url'].apply(lambda i: i.count('@'))\n",
        "urldata['count?'] = urldata['url'].apply(lambda i: i.count('?'))\n",
        "urldata['count%'] = urldata['url'].apply(lambda i: i.count('%'))\n",
        "urldata['count.'] = urldata['url'].apply(lambda i: i.count('.'))\n",
        "urldata['count='] = urldata['url'].apply(lambda i: i.count('='))\n",
        "urldata['count-http'] = urldata['url'].apply(lambda i : i.count('http'))\n",
        "urldata['count-https'] = urldata['url'].apply(lambda i : i.count('https'))\n",
        "urldata['count-www'] = urldata['url'].apply(lambda i: i.count('www'))\n",
        "def digit_count(url):\n",
        "    digits = 0\n",
        "    for i in url:\n",
        "        if i.isnumeric():\n",
        "            digits = digits + 1\n",
        "    return digits\n",
        "urldata['count-digits']= urldata['url'].apply(lambda i: digit_count(i))\n",
        "def letter_count(url):\n",
        "    letters = 0\n",
        "    for i in url:\n",
        "        if i.isalpha():\n",
        "            letters = letters + 1\n",
        "    return letters\n",
        "urldata['count-letters']= urldata['url'].apply(lambda i: letter_count(i))\n",
        "def no_of_dir(url):\n",
        "    urldir = urlparse(url).path\n",
        "    return urldir.count('/')\n",
        "urldata['count_dir'] = urldata['url'].apply(lambda i: no_of_dir(i))\n",
        "urldata.head()"
      ],
      "execution_count": 18,
      "outputs": [
        {
          "output_type": "execute_result",
          "data": {
            "text/html": [
              "<div>\n",
              "<style scoped>\n",
              "    .dataframe tbody tr th:only-of-type {\n",
              "        vertical-align: middle;\n",
              "    }\n",
              "\n",
              "    .dataframe tbody tr th {\n",
              "        vertical-align: top;\n",
              "    }\n",
              "\n",
              "    .dataframe thead th {\n",
              "        text-align: right;\n",
              "    }\n",
              "</style>\n",
              "<table border=\"1\" class=\"dataframe\">\n",
              "  <thead>\n",
              "    <tr style=\"text-align: right;\">\n",
              "      <th></th>\n",
              "      <th>url</th>\n",
              "      <th>label</th>\n",
              "      <th>result</th>\n",
              "      <th>url_length</th>\n",
              "      <th>hostname_length</th>\n",
              "      <th>path_length</th>\n",
              "      <th>fd_length</th>\n",
              "      <th>tld_length</th>\n",
              "      <th>count-</th>\n",
              "      <th>count@</th>\n",
              "      <th>count?</th>\n",
              "      <th>count%</th>\n",
              "      <th>count.</th>\n",
              "      <th>count=</th>\n",
              "      <th>count-http</th>\n",
              "      <th>count-https</th>\n",
              "      <th>count-www</th>\n",
              "      <th>count-digits</th>\n",
              "      <th>count-letters</th>\n",
              "      <th>count_dir</th>\n",
              "    </tr>\n",
              "  </thead>\n",
              "  <tbody>\n",
              "    <tr>\n",
              "      <th>0</th>\n",
              "      <td>https://www.google.com</td>\n",
              "      <td>benign</td>\n",
              "      <td>0</td>\n",
              "      <td>22</td>\n",
              "      <td>14</td>\n",
              "      <td>0</td>\n",
              "      <td>0</td>\n",
              "      <td>3</td>\n",
              "      <td>0</td>\n",
              "      <td>0</td>\n",
              "      <td>0</td>\n",
              "      <td>0</td>\n",
              "      <td>2</td>\n",
              "      <td>0</td>\n",
              "      <td>1</td>\n",
              "      <td>1</td>\n",
              "      <td>1</td>\n",
              "      <td>0</td>\n",
              "      <td>17</td>\n",
              "      <td>0</td>\n",
              "    </tr>\n",
              "    <tr>\n",
              "      <th>1</th>\n",
              "      <td>https://www.youtube.com</td>\n",
              "      <td>benign</td>\n",
              "      <td>0</td>\n",
              "      <td>23</td>\n",
              "      <td>15</td>\n",
              "      <td>0</td>\n",
              "      <td>0</td>\n",
              "      <td>3</td>\n",
              "      <td>0</td>\n",
              "      <td>0</td>\n",
              "      <td>0</td>\n",
              "      <td>0</td>\n",
              "      <td>2</td>\n",
              "      <td>0</td>\n",
              "      <td>1</td>\n",
              "      <td>1</td>\n",
              "      <td>1</td>\n",
              "      <td>0</td>\n",
              "      <td>18</td>\n",
              "      <td>0</td>\n",
              "    </tr>\n",
              "    <tr>\n",
              "      <th>2</th>\n",
              "      <td>https://www.facebook.com</td>\n",
              "      <td>benign</td>\n",
              "      <td>0</td>\n",
              "      <td>24</td>\n",
              "      <td>16</td>\n",
              "      <td>0</td>\n",
              "      <td>0</td>\n",
              "      <td>3</td>\n",
              "      <td>0</td>\n",
              "      <td>0</td>\n",
              "      <td>0</td>\n",
              "      <td>0</td>\n",
              "      <td>2</td>\n",
              "      <td>0</td>\n",
              "      <td>1</td>\n",
              "      <td>1</td>\n",
              "      <td>1</td>\n",
              "      <td>0</td>\n",
              "      <td>19</td>\n",
              "      <td>0</td>\n",
              "    </tr>\n",
              "    <tr>\n",
              "      <th>3</th>\n",
              "      <td>https://www.baidu.com</td>\n",
              "      <td>benign</td>\n",
              "      <td>0</td>\n",
              "      <td>21</td>\n",
              "      <td>13</td>\n",
              "      <td>0</td>\n",
              "      <td>0</td>\n",
              "      <td>3</td>\n",
              "      <td>0</td>\n",
              "      <td>0</td>\n",
              "      <td>0</td>\n",
              "      <td>0</td>\n",
              "      <td>2</td>\n",
              "      <td>0</td>\n",
              "      <td>1</td>\n",
              "      <td>1</td>\n",
              "      <td>1</td>\n",
              "      <td>0</td>\n",
              "      <td>16</td>\n",
              "      <td>0</td>\n",
              "    </tr>\n",
              "    <tr>\n",
              "      <th>4</th>\n",
              "      <td>https://www.wikipedia.org</td>\n",
              "      <td>benign</td>\n",
              "      <td>0</td>\n",
              "      <td>25</td>\n",
              "      <td>17</td>\n",
              "      <td>0</td>\n",
              "      <td>0</td>\n",
              "      <td>3</td>\n",
              "      <td>0</td>\n",
              "      <td>0</td>\n",
              "      <td>0</td>\n",
              "      <td>0</td>\n",
              "      <td>2</td>\n",
              "      <td>0</td>\n",
              "      <td>1</td>\n",
              "      <td>1</td>\n",
              "      <td>1</td>\n",
              "      <td>0</td>\n",
              "      <td>20</td>\n",
              "      <td>0</td>\n",
              "    </tr>\n",
              "  </tbody>\n",
              "</table>\n",
              "</div>"
            ],
            "text/plain": [
              "                         url   label  ...  count-letters  count_dir\n",
              "0     https://www.google.com  benign  ...             17          0\n",
              "1    https://www.youtube.com  benign  ...             18          0\n",
              "2   https://www.facebook.com  benign  ...             19          0\n",
              "3      https://www.baidu.com  benign  ...             16          0\n",
              "4  https://www.wikipedia.org  benign  ...             20          0\n",
              "\n",
              "[5 rows x 20 columns]"
            ]
          },
          "metadata": {
            "tags": []
          },
          "execution_count": 18
        }
      ]
    },
    {
      "cell_type": "markdown",
      "metadata": {
        "id": "k5jM0quM8I67"
      },
      "source": [
        "### heat map tells us correlation: if two colums are higly correlated(value close to 1 or -1) to each-other then we can drop one of them"
      ]
    },
    {
      "cell_type": "code",
      "metadata": {
        "colab": {
          "base_uri": "https://localhost:8080/",
          "height": 864
        },
        "id": "IK2BYbvl8Hkj",
        "outputId": "831aba32-9f27-4227-9b7d-dc2b2d288b63"
      },
      "source": [
        "corr = urldata.corr()\n",
        "f, ax = plt.subplots(figsize=(25,19))\n",
        "sns.heatmap(corr, square=True, annot = True, annot_kws={'size':10})"
      ],
      "execution_count": 19,
      "outputs": [
        {
          "output_type": "execute_result",
          "data": {
            "text/plain": [
              "<matplotlib.axes._subplots.AxesSubplot at 0x7f98ba36e390>"
            ]
          },
          "metadata": {
            "tags": []
          },
          "execution_count": 19
        },
        {
          "output_type": "display_data",
          "data": {
            "image/png": "[encoded data removed]",
            "text/plain": [
              "<Figure size 1800x1368 with 2 Axes>"
            ]
          },
          "metadata": {
            "tags": [],
            "needs_background": "light"
          }
        }
      ]
    },
    {
      "cell_type": "markdown",
      "metadata": {
        "id": "O4Q08Uxi8SYi"
      },
      "source": [
        "no critical correlation except in columns 'countHttp' and 'countWWW' but we know that both play important role in url so we are not removing any of them"
      ]
    },
    {
      "cell_type": "code",
      "metadata": {
        "colab": {
          "base_uri": "https://localhost:8080/",
          "height": 380
        },
        "id": "7qsXW3kI8NHk",
        "outputId": "206d969e-f2be-41e2-8c08-cd2940e9f5bb"
      },
      "source": [
        "plt.figure(figsize=(15,5))\n",
        "sns.countplot(x='label',data=urldata)\n",
        "plt.title(\"Count Of URLs\",fontsize=20)\n",
        "plt.xlabel(\"Type Of URLs\",fontsize=18)\n",
        "plt.ylabel(\"Number Of URLs\",fontsize=18)"
      ],
      "execution_count": 20,
      "outputs": [
        {
          "output_type": "execute_result",
          "data": {
            "text/plain": [
              "Text(0, 0.5, 'Number Of URLs')"
            ]
          },
          "metadata": {
            "tags": []
          },
          "execution_count": 20
        },
        {
          "output_type": "display_data",
          "data": {
            "image/png": "[encoded data removed]",
            "text/plain": [
              "<Figure size 1080x360 with 1 Axes>"
            ]
          },
          "metadata": {
            "tags": [],
            "needs_background": "light"
          }
        }
      ]
    },
    {
      "cell_type": "markdown",
      "metadata": {
        "id": "LZdTxqVl8844"
      },
      "source": [
        "## everything looks fine, now we are suffling the dataset because to escape from unnecessary overfitting"
      ]
    },
    {
      "cell_type": "code",
      "metadata": {
        "colab": {
          "base_uri": "https://localhost:8080/",
          "height": 706
        },
        "id": "wVpND-8o85oV",
        "outputId": "177f978c-c9b8-4846-d892-db6614a028bb"
      },
      "source": [
        "from sklearn.utils import shuffle\n",
        "urldata = shuffle(urldata)\n",
        "urldata.head(20)"
      ],
      "execution_count": 21,
      "outputs": [
        {
          "output_type": "execute_result",
          "data": {
            "text/html": [
              "<div>\n",
              "<style scoped>\n",
              "    .dataframe tbody tr th:only-of-type {\n",
              "        vertical-align: middle;\n",
              "    }\n",
              "\n",
              "    .dataframe tbody tr th {\n",
              "        vertical-align: top;\n",
              "    }\n",
              "\n",
              "    .dataframe thead th {\n",
              "        text-align: right;\n",
              "    }\n",
              "</style>\n",
              "<table border=\"1\" class=\"dataframe\">\n",
              "  <thead>\n",
              "    <tr style=\"text-align: right;\">\n",
              "      <th></th>\n",
              "      <th>url</th>\n",
              "      <th>label</th>\n",
              "      <th>result</th>\n",
              "      <th>url_length</th>\n",
              "      <th>hostname_length</th>\n",
              "      <th>path_length</th>\n",
              "      <th>fd_length</th>\n",
              "      <th>tld_length</th>\n",
              "      <th>count-</th>\n",
              "      <th>count@</th>\n",
              "      <th>count?</th>\n",
              "      <th>count%</th>\n",
              "      <th>count.</th>\n",
              "      <th>count=</th>\n",
              "      <th>count-http</th>\n",
              "      <th>count-https</th>\n",
              "      <th>count-www</th>\n",
              "      <th>count-digits</th>\n",
              "      <th>count-letters</th>\n",
              "      <th>count_dir</th>\n",
              "    </tr>\n",
              "  </thead>\n",
              "  <tbody>\n",
              "    <tr>\n",
              "      <th>40412</th>\n",
              "      <td>https://www.en.wikipedia.org/wiki/U.S._Route_4...</td>\n",
              "      <td>benign</td>\n",
              "      <td>0</td>\n",
              "      <td>63</td>\n",
              "      <td>20</td>\n",
              "      <td>35</td>\n",
              "      <td>4</td>\n",
              "      <td>3</td>\n",
              "      <td>0</td>\n",
              "      <td>0</td>\n",
              "      <td>0</td>\n",
              "      <td>0</td>\n",
              "      <td>5</td>\n",
              "      <td>0</td>\n",
              "      <td>1</td>\n",
              "      <td>1</td>\n",
              "      <td>1</td>\n",
              "      <td>2</td>\n",
              "      <td>47</td>\n",
              "      <td>2</td>\n",
              "    </tr>\n",
              "    <tr>\n",
              "      <th>414382</th>\n",
              "      <td>http://spinmeayarn.com/mjkiq</td>\n",
              "      <td>malicious</td>\n",
              "      <td>1</td>\n",
              "      <td>28</td>\n",
              "      <td>15</td>\n",
              "      <td>6</td>\n",
              "      <td>5</td>\n",
              "      <td>3</td>\n",
              "      <td>0</td>\n",
              "      <td>0</td>\n",
              "      <td>0</td>\n",
              "      <td>0</td>\n",
              "      <td>1</td>\n",
              "      <td>0</td>\n",
              "      <td>1</td>\n",
              "      <td>0</td>\n",
              "      <td>0</td>\n",
              "      <td>0</td>\n",
              "      <td>23</td>\n",
              "      <td>1</td>\n",
              "    </tr>\n",
              "    <tr>\n",
              "      <th>51557</th>\n",
              "      <td>https://www.genforum.genealogy.com/hoffmann/</td>\n",
              "      <td>benign</td>\n",
              "      <td>0</td>\n",
              "      <td>44</td>\n",
              "      <td>26</td>\n",
              "      <td>10</td>\n",
              "      <td>8</td>\n",
              "      <td>3</td>\n",
              "      <td>0</td>\n",
              "      <td>0</td>\n",
              "      <td>0</td>\n",
              "      <td>0</td>\n",
              "      <td>3</td>\n",
              "      <td>0</td>\n",
              "      <td>1</td>\n",
              "      <td>1</td>\n",
              "      <td>1</td>\n",
              "      <td>0</td>\n",
              "      <td>36</td>\n",
              "      <td>2</td>\n",
              "    </tr>\n",
              "    <tr>\n",
              "      <th>96756</th>\n",
              "      <td>https://www.secfb.neswblogs.com/2007/11/27/200...</td>\n",
              "      <td>benign</td>\n",
              "      <td>0</td>\n",
              "      <td>98</td>\n",
              "      <td>23</td>\n",
              "      <td>67</td>\n",
              "      <td>4</td>\n",
              "      <td>3</td>\n",
              "      <td>7</td>\n",
              "      <td>0</td>\n",
              "      <td>0</td>\n",
              "      <td>0</td>\n",
              "      <td>3</td>\n",
              "      <td>0</td>\n",
              "      <td>1</td>\n",
              "      <td>1</td>\n",
              "      <td>1</td>\n",
              "      <td>12</td>\n",
              "      <td>68</td>\n",
              "      <td>5</td>\n",
              "    </tr>\n",
              "    <tr>\n",
              "      <th>16627</th>\n",
              "      <td>https://www.chicago.blockshopper.com/property/...</td>\n",
              "      <td>benign</td>\n",
              "      <td>0</td>\n",
              "      <td>81</td>\n",
              "      <td>28</td>\n",
              "      <td>45</td>\n",
              "      <td>8</td>\n",
              "      <td>3</td>\n",
              "      <td>5</td>\n",
              "      <td>0</td>\n",
              "      <td>0</td>\n",
              "      <td>0</td>\n",
              "      <td>3</td>\n",
              "      <td>0</td>\n",
              "      <td>1</td>\n",
              "      <td>1</td>\n",
              "      <td>1</td>\n",
              "      <td>20</td>\n",
              "      <td>45</td>\n",
              "      <td>4</td>\n",
              "    </tr>\n",
              "    <tr>\n",
              "      <th>1326</th>\n",
              "      <td>https://www.camdolls.com</td>\n",
              "      <td>benign</td>\n",
              "      <td>0</td>\n",
              "      <td>24</td>\n",
              "      <td>16</td>\n",
              "      <td>0</td>\n",
              "      <td>0</td>\n",
              "      <td>3</td>\n",
              "      <td>0</td>\n",
              "      <td>0</td>\n",
              "      <td>0</td>\n",
              "      <td>0</td>\n",
              "      <td>2</td>\n",
              "      <td>0</td>\n",
              "      <td>1</td>\n",
              "      <td>1</td>\n",
              "      <td>1</td>\n",
              "      <td>0</td>\n",
              "      <td>19</td>\n",
              "      <td>0</td>\n",
              "    </tr>\n",
              "    <tr>\n",
              "      <th>1645</th>\n",
              "      <td>https://www.vmware.com</td>\n",
              "      <td>benign</td>\n",
              "      <td>0</td>\n",
              "      <td>22</td>\n",
              "      <td>14</td>\n",
              "      <td>0</td>\n",
              "      <td>0</td>\n",
              "      <td>3</td>\n",
              "      <td>0</td>\n",
              "      <td>0</td>\n",
              "      <td>0</td>\n",
              "      <td>0</td>\n",
              "      <td>2</td>\n",
              "      <td>0</td>\n",
              "      <td>1</td>\n",
              "      <td>1</td>\n",
              "      <td>1</td>\n",
              "      <td>0</td>\n",
              "      <td>17</td>\n",
              "      <td>0</td>\n",
              "    </tr>\n",
              "    <tr>\n",
              "      <th>93623</th>\n",
              "      <td>https://www.revrock.blogspot.com/2010/04/1.html</td>\n",
              "      <td>benign</td>\n",
              "      <td>0</td>\n",
              "      <td>47</td>\n",
              "      <td>24</td>\n",
              "      <td>15</td>\n",
              "      <td>4</td>\n",
              "      <td>12</td>\n",
              "      <td>0</td>\n",
              "      <td>0</td>\n",
              "      <td>0</td>\n",
              "      <td>0</td>\n",
              "      <td>4</td>\n",
              "      <td>0</td>\n",
              "      <td>1</td>\n",
              "      <td>1</td>\n",
              "      <td>1</td>\n",
              "      <td>7</td>\n",
              "      <td>30</td>\n",
              "      <td>3</td>\n",
              "    </tr>\n",
              "    <tr>\n",
              "      <th>97594</th>\n",
              "      <td>https://www.shiralazar.com/blog/</td>\n",
              "      <td>benign</td>\n",
              "      <td>0</td>\n",
              "      <td>32</td>\n",
              "      <td>18</td>\n",
              "      <td>6</td>\n",
              "      <td>4</td>\n",
              "      <td>3</td>\n",
              "      <td>0</td>\n",
              "      <td>0</td>\n",
              "      <td>0</td>\n",
              "      <td>0</td>\n",
              "      <td>2</td>\n",
              "      <td>0</td>\n",
              "      <td>1</td>\n",
              "      <td>1</td>\n",
              "      <td>1</td>\n",
              "      <td>0</td>\n",
              "      <td>25</td>\n",
              "      <td>2</td>\n",
              "    </tr>\n",
              "    <tr>\n",
              "      <th>21655</th>\n",
              "      <td>https://www.czq0tatv.strategia-tactica.ru/?n=3...</td>\n",
              "      <td>benign</td>\n",
              "      <td>0</td>\n",
              "      <td>64</td>\n",
              "      <td>33</td>\n",
              "      <td>1</td>\n",
              "      <td>0</td>\n",
              "      <td>2</td>\n",
              "      <td>1</td>\n",
              "      <td>0</td>\n",
              "      <td>1</td>\n",
              "      <td>0</td>\n",
              "      <td>3</td>\n",
              "      <td>2</td>\n",
              "      <td>1</td>\n",
              "      <td>1</td>\n",
              "      <td>1</td>\n",
              "      <td>11</td>\n",
              "      <td>40</td>\n",
              "      <td>1</td>\n",
              "    </tr>\n",
              "    <tr>\n",
              "      <th>48009</th>\n",
              "      <td>https://www.forum.canucks.com/blog/83/entry-10...</td>\n",
              "      <td>benign</td>\n",
              "      <td>0</td>\n",
              "      <td>103</td>\n",
              "      <td>21</td>\n",
              "      <td>74</td>\n",
              "      <td>4</td>\n",
              "      <td>3</td>\n",
              "      <td>6</td>\n",
              "      <td>0</td>\n",
              "      <td>0</td>\n",
              "      <td>0</td>\n",
              "      <td>3</td>\n",
              "      <td>1</td>\n",
              "      <td>1</td>\n",
              "      <td>1</td>\n",
              "      <td>1</td>\n",
              "      <td>6</td>\n",
              "      <td>79</td>\n",
              "      <td>4</td>\n",
              "    </tr>\n",
              "    <tr>\n",
              "      <th>70747</th>\n",
              "      <td>https://www.mds.servicerating.ca/orate/48095</td>\n",
              "      <td>benign</td>\n",
              "      <td>0</td>\n",
              "      <td>44</td>\n",
              "      <td>24</td>\n",
              "      <td>12</td>\n",
              "      <td>5</td>\n",
              "      <td>2</td>\n",
              "      <td>0</td>\n",
              "      <td>0</td>\n",
              "      <td>0</td>\n",
              "      <td>0</td>\n",
              "      <td>3</td>\n",
              "      <td>0</td>\n",
              "      <td>1</td>\n",
              "      <td>1</td>\n",
              "      <td>1</td>\n",
              "      <td>5</td>\n",
              "      <td>31</td>\n",
              "      <td>2</td>\n",
              "    </tr>\n",
              "    <tr>\n",
              "      <th>91575</th>\n",
              "      <td>https://www.quilting.about.com/od/picturesofqu...</td>\n",
              "      <td>benign</td>\n",
              "      <td>0</td>\n",
              "      <td>118</td>\n",
              "      <td>22</td>\n",
              "      <td>88</td>\n",
              "      <td>2</td>\n",
              "      <td>3</td>\n",
              "      <td>7</td>\n",
              "      <td>0</td>\n",
              "      <td>0</td>\n",
              "      <td>0</td>\n",
              "      <td>4</td>\n",
              "      <td>0</td>\n",
              "      <td>1</td>\n",
              "      <td>1</td>\n",
              "      <td>1</td>\n",
              "      <td>0</td>\n",
              "      <td>99</td>\n",
              "      <td>5</td>\n",
              "    </tr>\n",
              "    <tr>\n",
              "      <th>29822</th>\n",
              "      <td>https://www.en.wikipedia.org/wiki/Alvin_Barkley</td>\n",
              "      <td>benign</td>\n",
              "      <td>0</td>\n",
              "      <td>47</td>\n",
              "      <td>20</td>\n",
              "      <td>19</td>\n",
              "      <td>4</td>\n",
              "      <td>3</td>\n",
              "      <td>0</td>\n",
              "      <td>0</td>\n",
              "      <td>0</td>\n",
              "      <td>0</td>\n",
              "      <td>3</td>\n",
              "      <td>0</td>\n",
              "      <td>1</td>\n",
              "      <td>1</td>\n",
              "      <td>1</td>\n",
              "      <td>0</td>\n",
              "      <td>38</td>\n",
              "      <td>2</td>\n",
              "    </tr>\n",
              "    <tr>\n",
              "      <th>376515</th>\n",
              "      <td>http://sitesumo.com/OUTLOOKWEBVERIFICATION/mai...</td>\n",
              "      <td>malicious</td>\n",
              "      <td>1</td>\n",
              "      <td>53</td>\n",
              "      <td>12</td>\n",
              "      <td>34</td>\n",
              "      <td>22</td>\n",
              "      <td>3</td>\n",
              "      <td>0</td>\n",
              "      <td>0</td>\n",
              "      <td>0</td>\n",
              "      <td>0</td>\n",
              "      <td>2</td>\n",
              "      <td>0</td>\n",
              "      <td>1</td>\n",
              "      <td>0</td>\n",
              "      <td>0</td>\n",
              "      <td>0</td>\n",
              "      <td>45</td>\n",
              "      <td>3</td>\n",
              "    </tr>\n",
              "    <tr>\n",
              "      <th>94899</th>\n",
              "      <td>https://www.rudedogpolaris.com/</td>\n",
              "      <td>benign</td>\n",
              "      <td>0</td>\n",
              "      <td>31</td>\n",
              "      <td>22</td>\n",
              "      <td>1</td>\n",
              "      <td>0</td>\n",
              "      <td>3</td>\n",
              "      <td>0</td>\n",
              "      <td>0</td>\n",
              "      <td>0</td>\n",
              "      <td>0</td>\n",
              "      <td>2</td>\n",
              "      <td>0</td>\n",
              "      <td>1</td>\n",
              "      <td>1</td>\n",
              "      <td>1</td>\n",
              "      <td>0</td>\n",
              "      <td>25</td>\n",
              "      <td>1</td>\n",
              "    </tr>\n",
              "    <tr>\n",
              "      <th>88476</th>\n",
              "      <td>https://www.pipl.com/directory/people/Sue/Athe...</td>\n",
              "      <td>benign</td>\n",
              "      <td>0</td>\n",
              "      <td>50</td>\n",
              "      <td>12</td>\n",
              "      <td>30</td>\n",
              "      <td>9</td>\n",
              "      <td>3</td>\n",
              "      <td>0</td>\n",
              "      <td>0</td>\n",
              "      <td>0</td>\n",
              "      <td>0</td>\n",
              "      <td>2</td>\n",
              "      <td>0</td>\n",
              "      <td>1</td>\n",
              "      <td>1</td>\n",
              "      <td>1</td>\n",
              "      <td>0</td>\n",
              "      <td>41</td>\n",
              "      <td>4</td>\n",
              "    </tr>\n",
              "    <tr>\n",
              "      <th>361529</th>\n",
              "      <td>http://ow.ly/SK3D304e2o2</td>\n",
              "      <td>malicious</td>\n",
              "      <td>1</td>\n",
              "      <td>24</td>\n",
              "      <td>5</td>\n",
              "      <td>12</td>\n",
              "      <td>11</td>\n",
              "      <td>2</td>\n",
              "      <td>0</td>\n",
              "      <td>0</td>\n",
              "      <td>0</td>\n",
              "      <td>0</td>\n",
              "      <td>1</td>\n",
              "      <td>0</td>\n",
              "      <td>1</td>\n",
              "      <td>0</td>\n",
              "      <td>0</td>\n",
              "      <td>6</td>\n",
              "      <td>13</td>\n",
              "      <td>1</td>\n",
              "    </tr>\n",
              "    <tr>\n",
              "      <th>357706</th>\n",
              "      <td>http://martinpersonnel.com/a/</td>\n",
              "      <td>malicious</td>\n",
              "      <td>1</td>\n",
              "      <td>29</td>\n",
              "      <td>19</td>\n",
              "      <td>3</td>\n",
              "      <td>1</td>\n",
              "      <td>3</td>\n",
              "      <td>0</td>\n",
              "      <td>0</td>\n",
              "      <td>0</td>\n",
              "      <td>0</td>\n",
              "      <td>1</td>\n",
              "      <td>0</td>\n",
              "      <td>1</td>\n",
              "      <td>0</td>\n",
              "      <td>0</td>\n",
              "      <td>0</td>\n",
              "      <td>23</td>\n",
              "      <td>2</td>\n",
              "    </tr>\n",
              "    <tr>\n",
              "      <th>429739</th>\n",
              "      <td>http://www.starfleetepsilon.com/application/vi...</td>\n",
              "      <td>malicious</td>\n",
              "      <td>1</td>\n",
              "      <td>61</td>\n",
              "      <td>24</td>\n",
              "      <td>30</td>\n",
              "      <td>11</td>\n",
              "      <td>3</td>\n",
              "      <td>0</td>\n",
              "      <td>0</td>\n",
              "      <td>0</td>\n",
              "      <td>0</td>\n",
              "      <td>2</td>\n",
              "      <td>0</td>\n",
              "      <td>1</td>\n",
              "      <td>0</td>\n",
              "      <td>1</td>\n",
              "      <td>0</td>\n",
              "      <td>51</td>\n",
              "      <td>5</td>\n",
              "    </tr>\n",
              "  </tbody>\n",
              "</table>\n",
              "</div>"
            ],
            "text/plain": [
              "                                                      url  ... count_dir\n",
              "40412   https://www.en.wikipedia.org/wiki/U.S._Route_4...  ...         2\n",
              "414382                       http://spinmeayarn.com/mjkiq  ...         1\n",
              "51557        https://www.genforum.genealogy.com/hoffmann/  ...         2\n",
              "96756   https://www.secfb.neswblogs.com/2007/11/27/200...  ...         5\n",
              "16627   https://www.chicago.blockshopper.com/property/...  ...         4\n",
              "1326                             https://www.camdolls.com  ...         0\n",
              "1645                               https://www.vmware.com  ...         0\n",
              "93623     https://www.revrock.blogspot.com/2010/04/1.html  ...         3\n",
              "97594                    https://www.shiralazar.com/blog/  ...         2\n",
              "21655   https://www.czq0tatv.strategia-tactica.ru/?n=3...  ...         1\n",
              "48009   https://www.forum.canucks.com/blog/83/entry-10...  ...         4\n",
              "70747        https://www.mds.servicerating.ca/orate/48095  ...         2\n",
              "91575   https://www.quilting.about.com/od/picturesofqu...  ...         5\n",
              "29822     https://www.en.wikipedia.org/wiki/Alvin_Barkley  ...         2\n",
              "376515  http://sitesumo.com/OUTLOOKWEBVERIFICATION/mai...  ...         3\n",
              "94899                     https://www.rudedogpolaris.com/  ...         1\n",
              "88476   https://www.pipl.com/directory/people/Sue/Athe...  ...         4\n",
              "361529                           http://ow.ly/SK3D304e2o2  ...         1\n",
              "357706                      http://martinpersonnel.com/a/  ...         2\n",
              "429739  http://www.starfleetepsilon.com/application/vi...  ...         5\n",
              "\n",
              "[20 rows x 20 columns]"
            ]
          },
          "metadata": {
            "tags": []
          },
          "execution_count": 21
        }
      ]
    },
    {
      "cell_type": "markdown",
      "metadata": {
        "id": "_FGzU0ob96Z2"
      },
      "source": [
        "breaking into training and testing datasets "
      ]
    },
    {
      "cell_type": "code",
      "metadata": {
        "id": "JKz2QtMZ-MU6"
      },
      "source": [
        "from sklearn.ensemble import RandomForestClassifier\n",
        "from sklearn.model_selection import train_test_split\n",
        "\n",
        "from sklearn.metrics import confusion_matrix,classification_report,accuracy_score\n",
        "\n",
        "from sklearn.tree import DecisionTreeClassifier\n",
        "\n",
        "from sklearn.linear_model import LogisticRegression"
      ],
      "execution_count": 22,
      "outputs": []
    },
    {
      "cell_type": "markdown",
      "metadata": {
        "id": "RPrZj7sd-ko9"
      },
      "source": [
        "## using decision tree"
      ]
    },
    {
      "cell_type": "code",
      "metadata": {
        "id": "ZOHfFhk6-nzb"
      },
      "source": [
        "#Predictor Variables\n",
        "x = urldata[['hostname_length',\n",
        "       'path_length', 'fd_length', 'tld_length', 'count@', 'count?',\n",
        "       'count-http','count-https', 'count-digits']]\n",
        "\n",
        "#Target Variable\n",
        "y = urldata['result']\n",
        "#Splitting the data into Training 75% and Testing 25%\n",
        "x_train, x_test, y_train, y_test = train_test_split(x, y, test_size=0.25, random_state=42)"
      ],
      "execution_count": 24,
      "outputs": []
    },
    {
      "cell_type": "code",
      "metadata": {
        "colab": {
          "base_uri": "https://localhost:8080/"
        },
        "id": "2kZaHXk7_CZb",
        "outputId": "67f2fa53-432f-4462-ba93-15deca590630"
      },
      "source": [
        "dt_model = DecisionTreeClassifier()\n",
        "dt_model.fit(x_train,y_train)\n",
        "\n",
        "dt_predictions = dt_model.predict(x_test)\n",
        "accuracy_score(y_test,dt_predictions)"
      ],
      "execution_count": 25,
      "outputs": [
        {
          "output_type": "execute_result",
          "data": {
            "text/plain": [
              "0.9809264826978686"
            ]
          },
          "metadata": {
            "tags": []
          },
          "execution_count": 25
        }
      ]
    },
    {
      "cell_type": "markdown",
      "metadata": {
        "id": "dxv-B_s2KtCq"
      },
      "source": [
        "accuracy is 0.0.9809264826978686 which is greater the previous accuracy 0.952.."
      ]
    },
    {
      "cell_type": "code",
      "metadata": {
        "colab": {
          "base_uri": "https://localhost:8080/",
          "height": 868
        },
        "id": "BudqZWZv_Deb",
        "outputId": "223e219f-d97e-4aa2-bbab-08a7a8afaae5"
      },
      "source": [
        "corr = x.corr()\n",
        "f, ax = plt.subplots(figsize=(25,19))\n",
        "sns.heatmap(corr, square=True, annot = True, annot_kws={'size':10})"
      ],
      "execution_count": 26,
      "outputs": [
        {
          "output_type": "execute_result",
          "data": {
            "text/plain": [
              "<matplotlib.axes._subplots.AxesSubplot at 0x7f98aa45fe50>"
            ]
          },
          "metadata": {
            "tags": []
          },
          "execution_count": 26
        },
        {
          "output_type": "display_data",
          "data": {
            "image/png": "[encoded data removed]",
            "text/plain": [
              "<Figure size 1800x1368 with 2 Axes>"
            ]
          },
          "metadata": {
            "tags": [],
            "needs_background": "light"
          }
        }
      ]
    },
    {
      "cell_type": "markdown",
      "metadata": {
        "id": "C1GSFQelBnaG"
      },
      "source": [
        "we can see that there is no critical correlation so we avoided the problem of overfitting\n",
        "\n",
        "#### choose between\n",
        "\n",
        "count= and count ?  \n",
        "count. path_length  \n",
        "path length and count-  \n",
        "count? count=  \n",
        "count% vs count digit  \n",
        "count http and count www  "
      ]
    },
    {
      "cell_type": "markdown",
      "metadata": {
        "id": "oneJf9knKjR1"
      },
      "source": [
        ""
      ]
    },
    {
      "cell_type": "markdown",
      "metadata": {
        "id": "n9xUYPqRK1e7"
      },
      "source": [
        "## using Logistic Regression"
      ]
    },
    {
      "cell_type": "code",
      "metadata": {
        "colab": {
          "base_uri": "https://localhost:8080/"
        },
        "id": "ODMy2nBvAcET",
        "outputId": "14949884-bbe7-4c92-cf95-78984bbe4f71"
      },
      "source": [
        "log_model = LogisticRegression()\n",
        "log_model.fit(x_train,y_train)\n",
        "\n",
        "log_predictions = log_model.predict(x_test)\n",
        "accuracy_score(y_test,log_predictions)"
      ],
      "execution_count": 27,
      "outputs": [
        {
          "output_type": "stream",
          "text": [
            "/usr/local/lib/python3.7/dist-packages/sklearn/linear_model/_logistic.py:940: ConvergenceWarning: lbfgs failed to converge (status=1):\n",
            "STOP: TOTAL NO. of ITERATIONS REACHED LIMIT.\n",
            "\n",
            "Increase the number of iterations (max_iter) or scale the data as shown in:\n",
            "    https://scikit-learn.org/stable/modules/preprocessing.html\n",
            "Please also refer to the documentation for alternative solver options:\n",
            "    https://scikit-learn.org/stable/modules/linear_model.html#logistic-regression\n",
            "  extra_warning_msg=_LOGISTIC_SOLVER_CONVERGENCE_MSG)\n"
          ],
          "name": "stderr"
        },
        {
          "output_type": "execute_result",
          "data": {
            "text/plain": [
              "0.9702598670981827"
            ]
          },
          "metadata": {
            "tags": []
          },
          "execution_count": 27
        }
      ]
    },
    {
      "cell_type": "markdown",
      "metadata": {
        "id": "pN96f2VwLFCB"
      },
      "source": [
        "accuracy is 0.9702598670981827 which is greater the previous accuracy 0.945...\n",
        "\n",
        "## using Random Forest Classifier"
      ]
    },
    {
      "cell_type": "code",
      "metadata": {
        "colab": {
          "base_uri": "https://localhost:8080/"
        },
        "id": "C2cAaRXFEjTt",
        "outputId": "67ba1130-45a0-4005-d9cb-6362cd87fe47"
      },
      "source": [
        "rfc = RandomForestClassifier()\n",
        "rfc.fit(x_train, y_train)\n",
        "\n",
        "rfc_predictions = rfc.predict(x_test)\n",
        "accuracy_score(y_test, rfc_predictions)"
      ],
      "execution_count": 28,
      "outputs": [
        {
          "output_type": "execute_result",
          "data": {
            "text/plain": [
              "0.9851586587257511"
            ]
          },
          "metadata": {
            "tags": []
          },
          "execution_count": 28
        }
      ]
    },
    {
      "cell_type": "markdown",
      "metadata": {
        "id": "ZJjG8bMaLSW1"
      },
      "source": [
        "accuracy is 0.9851586587257511 which is greater the previous accuracy 0.968..\n",
        "\n",
        "## using MLPClassifier\n",
        "we have to find best value of iteration and batch size so that nueral network don't overfit or underfit"
      ]
    },
    {
      "cell_type": "code",
      "metadata": {
        "colab": {
          "base_uri": "https://localhost:8080/"
        },
        "id": "40No-ouiEtTb",
        "outputId": "f990400c-7387-4cdc-af26-2cc0251d0a24"
      },
      "source": [
        "#for max iter 50\n",
        "from sklearn.neural_network import MLPClassifier\n",
        "from sklearn.datasets import make_classification\n",
        "from sklearn.model_selection import train_test_split\n",
        "clf = MLPClassifier(random_state=42, max_iter=50,batch_size='auto', ).fit(x_train, y_train)\n",
        "clf.score(x_test, y_test)"
      ],
      "execution_count": 29,
      "outputs": [
        {
          "output_type": "stream",
          "text": [
            "/usr/local/lib/python3.7/dist-packages/sklearn/neural_network/_multilayer_perceptron.py:571: ConvergenceWarning: Stochastic Optimizer: Maximum iterations (50) reached and the optimization hasn't converged yet.\n",
            "  % self.max_iter, ConvergenceWarning)\n"
          ],
          "name": "stderr"
        },
        {
          "output_type": "execute_result",
          "data": {
            "text/plain": [
              "0.9728259828797947"
            ]
          },
          "metadata": {
            "tags": []
          },
          "execution_count": 29
        }
      ]
    },
    {
      "cell_type": "code",
      "metadata": {
        "colab": {
          "base_uri": "https://localhost:8080/"
        },
        "id": "T20FceeTE99l",
        "outputId": "cd1dc8cb-26c6-4a8f-da34-3e1eec21720b"
      },
      "source": [
        "#for max iter 40\n",
        "clf = MLPClassifier(random_state=42, max_iter=40,batch_size='auto', ).fit(x_train, y_train)\n",
        "clf.score(x_test, y_test)"
      ],
      "execution_count": 30,
      "outputs": [
        {
          "output_type": "stream",
          "text": [
            "/usr/local/lib/python3.7/dist-packages/sklearn/neural_network/_multilayer_perceptron.py:571: ConvergenceWarning: Stochastic Optimizer: Maximum iterations (40) reached and the optimization hasn't converged yet.\n",
            "  % self.max_iter, ConvergenceWarning)\n"
          ],
          "name": "stderr"
        },
        {
          "output_type": "execute_result",
          "data": {
            "text/plain": [
              "0.9765602558455735"
            ]
          },
          "metadata": {
            "tags": []
          },
          "execution_count": 30
        }
      ]
    },
    {
      "cell_type": "code",
      "metadata": {
        "colab": {
          "base_uri": "https://localhost:8080/"
        },
        "id": "Y0foxJJjNCcp",
        "outputId": "9ff6d6d6-f513-43b6-a7a0-ed5a5c4e70d8"
      },
      "source": [
        "for i in range(20,200,40):\n",
        "  clf = MLPClassifier(random_state=42, max_iter=i ).fit(x_train, y_train)\n",
        "  print(clf.score(x_test, y_test))"
      ],
      "execution_count": 35,
      "outputs": [
        {
          "output_type": "stream",
          "text": [
            "/usr/local/lib/python3.7/dist-packages/sklearn/neural_network/_multilayer_perceptron.py:571: ConvergenceWarning: Stochastic Optimizer: Maximum iterations (20) reached and the optimization hasn't converged yet.\n",
            "  % self.max_iter, ConvergenceWarning)\n"
          ],
          "name": "stderr"
        },
        {
          "output_type": "stream",
          "text": [
            "0.976521955610027\n"
          ],
          "name": "stdout"
        },
        {
          "output_type": "stream",
          "text": [
            "/usr/local/lib/python3.7/dist-packages/sklearn/neural_network/_multilayer_perceptron.py:571: ConvergenceWarning: Stochastic Optimizer: Maximum iterations (60) reached and the optimization hasn't converged yet.\n",
            "  % self.max_iter, ConvergenceWarning)\n"
          ],
          "name": "stderr"
        },
        {
          "output_type": "stream",
          "text": [
            "0.9764070549033876\n"
          ],
          "name": "stdout"
        },
        {
          "output_type": "stream",
          "text": [
            "/usr/local/lib/python3.7/dist-packages/sklearn/neural_network/_multilayer_perceptron.py:571: ConvergenceWarning: Stochastic Optimizer: Maximum iterations (100) reached and the optimization hasn't converged yet.\n",
            "  % self.max_iter, ConvergenceWarning)\n"
          ],
          "name": "stderr"
        },
        {
          "output_type": "stream",
          "text": [
            "0.9772496600854095\n",
            "0.977805013500833\n",
            "0.977805013500833\n"
          ],
          "name": "stdout"
        }
      ]
    },
    {
      "cell_type": "code",
      "metadata": {
        "colab": {
          "base_uri": "https://localhost:8080/"
        },
        "id": "nJUmSq1RNJa2",
        "outputId": "1b69beab-6da4-4777-d2ef-090efbb9e1c6"
      },
      "source": [
        "#max iter 128 oooks good, now checking for batch size\n",
        "b=[16,32,64,128,256,512,1024]\n",
        "\n",
        "for i in b:\n",
        "  clf = MLPClassifier(random_state=42, max_iter=128,batch_size=i ).fit(x_train, y_train)\n",
        "  print(clf.score(x_test, y_test))"
      ],
      "execution_count": 37,
      "outputs": [
        {
          "output_type": "stream",
          "text": [
            "0.9764453551389342\n",
            "0.977460311380915\n",
            "0.9789157203316801\n"
          ],
          "name": "stdout"
        },
        {
          "output_type": "stream",
          "text": [
            "/usr/local/lib/python3.7/dist-packages/sklearn/neural_network/_multilayer_perceptron.py:571: ConvergenceWarning: Stochastic Optimizer: Maximum iterations (128) reached and the optimization hasn't converged yet.\n",
            "  % self.max_iter, ConvergenceWarning)\n"
          ],
          "name": "stderr"
        },
        {
          "output_type": "stream",
          "text": [
            "0.9780539650318849\n"
          ],
          "name": "stdout"
        },
        {
          "output_type": "stream",
          "text": [
            "/usr/local/lib/python3.7/dist-packages/sklearn/neural_network/_multilayer_perceptron.py:573: UserWarning: Training interrupted by user.\n",
            "  warnings.warn(\"Training interrupted by user.\")\n"
          ],
          "name": "stderr"
        },
        {
          "output_type": "stream",
          "text": [
            "0.9759857523123767\n"
          ],
          "name": "stdout"
        },
        {
          "output_type": "stream",
          "text": [
            "/usr/local/lib/python3.7/dist-packages/sklearn/neural_network/_multilayer_perceptron.py:573: UserWarning: Training interrupted by user.\n",
            "  warnings.warn(\"Training interrupted by user.\")\n"
          ],
          "name": "stderr"
        },
        {
          "output_type": "stream",
          "text": [
            "0.9752197476014477\n",
            "0.9745303433616117\n"
          ],
          "name": "stdout"
        },
        {
          "output_type": "stream",
          "text": [
            "/usr/local/lib/python3.7/dist-packages/sklearn/neural_network/_multilayer_perceptron.py:573: UserWarning: Training interrupted by user.\n",
            "  warnings.warn(\"Training interrupted by user.\")\n"
          ],
          "name": "stderr"
        }
      ]
    },
    {
      "cell_type": "markdown",
      "metadata": {
        "id": "tJr6MzEFS2Fd"
      },
      "source": [
        "batch size 64 looks good"
      ]
    },
    {
      "cell_type": "code",
      "metadata": {
        "colab": {
          "base_uri": "https://localhost:8080/"
        },
        "id": "e4hdP1glTOqs",
        "outputId": "b5064246-2958-43eb-d6e2-f184706c87dc"
      },
      "source": [
        "# optimized\n",
        "clf = MLPClassifier(random_state=42, max_iter=128,batch_size=64 ).fit(x_train, y_train)\n",
        "print(clf.score(x_test, y_test))\n"
      ],
      "execution_count": 40,
      "outputs": [
        {
          "output_type": "stream",
          "text": [
            "0.9789157203316801\n"
          ],
          "name": "stdout"
        }
      ]
    },
    {
      "cell_type": "markdown",
      "metadata": {
        "id": "-BM1U2EISFon"
      },
      "source": [
        "getting DATA for Boxplot(IQR graph) for each algorithm \n",
        "we can get the chart from running the algorithm many times and get a  list of different values then plot Boxplot\n",
        "\n",
        "note: don't set a fixed random state for that"
      ]
    },
    {
      "cell_type": "code",
      "metadata": {
        "colab": {
          "base_uri": "https://localhost:8080/"
        },
        "id": "Socj95ShQeKy",
        "outputId": "e4863995-0bc4-47c2-d627-b9a721126a03"
      },
      "source": [
        "#decision tree\n",
        "dtl=[]\n",
        "for i in range(1,20):\n",
        "  dt_model = DecisionTreeClassifier()\n",
        "  dt_model.fit(x_train,y_train)\n",
        "\n",
        "  dt_predictions = dt_model.predict(x_test)\n",
        "  dtl.append(accuracy_score(y_test,dt_predictions))\n",
        "dtl"
      ],
      "execution_count": 45,
      "outputs": [
        {
          "output_type": "execute_result",
          "data": {
            "text/plain": [
              "[0.9805817805779505,\n",
              " 0.9805434803424041,\n",
              " 0.9806966812845899,\n",
              " 0.9807541316379096,\n",
              " 0.9806392309312703,\n",
              " 0.9806392309312703,\n",
              " 0.9806583810490435,\n",
              " 0.9806392309312703,\n",
              " 0.9808115819912292,\n",
              " 0.9809073325800953,\n",
              " 0.980792431873456,\n",
              " 0.9808498822267757,\n",
              " 0.9805434803424041,\n",
              " 0.9808498822267757,\n",
              " 0.9807541316379096,\n",
              " 0.9808690323445489,\n",
              " 0.9807349815201364,\n",
              " 0.9806966812845899,\n",
              " 0.9807541316379096]"
            ]
          },
          "metadata": {
            "tags": []
          },
          "execution_count": 45
        }
      ]
    },
    {
      "cell_type": "code",
      "metadata": {
        "colab": {
          "base_uri": "https://localhost:8080/"
        },
        "id": "lXOcweTzUQKW",
        "outputId": "e78cc771-f73b-4a7b-90b7-20874be2998f"
      },
      "source": [
        "\n",
        "#logistic regression\n",
        "lrl=[]\n",
        "for i in range(1,20):\n",
        "  log_model = LogisticRegression()\n",
        "  log_model.fit(x_train,y_train)\n",
        "\n",
        "  log_predictions = log_model.predict(x_test)\n",
        "  lrl.append(accuracy_score(y_test,log_predictions))\n",
        "lrl"
      ],
      "execution_count": 46,
      "outputs": [
        {
          "output_type": "stream",
          "text": [
            "/usr/local/lib/python3.7/dist-packages/sklearn/linear_model/_logistic.py:940: ConvergenceWarning: lbfgs failed to converge (status=1):\n",
            "STOP: TOTAL NO. of ITERATIONS REACHED LIMIT.\n",
            "\n",
            "Increase the number of iterations (max_iter) or scale the data as shown in:\n",
            "    https://scikit-learn.org/stable/modules/preprocessing.html\n",
            "Please also refer to the documentation for alternative solver options:\n",
            "    https://scikit-learn.org/stable/modules/linear_model.html#logistic-regression\n",
            "  extra_warning_msg=_LOGISTIC_SOLVER_CONVERGENCE_MSG)\n",
            "/usr/local/lib/python3.7/dist-packages/sklearn/linear_model/_logistic.py:940: ConvergenceWarning: lbfgs failed to converge (status=1):\n",
            "STOP: TOTAL NO. of ITERATIONS REACHED LIMIT.\n",
            "\n",
            "Increase the number of iterations (max_iter) or scale the data as shown in:\n",
            "    https://scikit-learn.org/stable/modules/preprocessing.html\n",
            "Please also refer to the documentation for alternative solver options:\n",
            "    https://scikit-learn.org/stable/modules/linear_model.html#logistic-regression\n",
            "  extra_warning_msg=_LOGISTIC_SOLVER_CONVERGENCE_MSG)\n",
            "/usr/local/lib/python3.7/dist-packages/sklearn/linear_model/_logistic.py:940: ConvergenceWarning: lbfgs failed to converge (status=1):\n",
            "STOP: TOTAL NO. of ITERATIONS REACHED LIMIT.\n",
            "\n",
            "Increase the number of iterations (max_iter) or scale the data as shown in:\n",
            "    https://scikit-learn.org/stable/modules/preprocessing.html\n",
            "Please also refer to the documentation for alternative solver options:\n",
            "    https://scikit-learn.org/stable/modules/linear_model.html#logistic-regression\n",
            "  extra_warning_msg=_LOGISTIC_SOLVER_CONVERGENCE_MSG)\n",
            "/usr/local/lib/python3.7/dist-packages/sklearn/linear_model/_logistic.py:940: ConvergenceWarning: lbfgs failed to converge (status=1):\n",
            "STOP: TOTAL NO. of ITERATIONS REACHED LIMIT.\n",
            "\n",
            "Increase the number of iterations (max_iter) or scale the data as shown in:\n",
            "    https://scikit-learn.org/stable/modules/preprocessing.html\n",
            "Please also refer to the documentation for alternative solver options:\n",
            "    https://scikit-learn.org/stable/modules/linear_model.html#logistic-regression\n",
            "  extra_warning_msg=_LOGISTIC_SOLVER_CONVERGENCE_MSG)\n",
            "/usr/local/lib/python3.7/dist-packages/sklearn/linear_model/_logistic.py:940: ConvergenceWarning: lbfgs failed to converge (status=1):\n",
            "STOP: TOTAL NO. of ITERATIONS REACHED LIMIT.\n",
            "\n",
            "Increase the number of iterations (max_iter) or scale the data as shown in:\n",
            "    https://scikit-learn.org/stable/modules/preprocessing.html\n",
            "Please also refer to the documentation for alternative solver options:\n",
            "    https://scikit-learn.org/stable/modules/linear_model.html#logistic-regression\n",
            "  extra_warning_msg=_LOGISTIC_SOLVER_CONVERGENCE_MSG)\n",
            "/usr/local/lib/python3.7/dist-packages/sklearn/linear_model/_logistic.py:940: ConvergenceWarning: lbfgs failed to converge (status=1):\n",
            "STOP: TOTAL NO. of ITERATIONS REACHED LIMIT.\n",
            "\n",
            "Increase the number of iterations (max_iter) or scale the data as shown in:\n",
            "    https://scikit-learn.org/stable/modules/preprocessing.html\n",
            "Please also refer to the documentation for alternative solver options:\n",
            "    https://scikit-learn.org/stable/modules/linear_model.html#logistic-regression\n",
            "  extra_warning_msg=_LOGISTIC_SOLVER_CONVERGENCE_MSG)\n",
            "/usr/local/lib/python3.7/dist-packages/sklearn/linear_model/_logistic.py:940: ConvergenceWarning: lbfgs failed to converge (status=1):\n",
            "STOP: TOTAL NO. of ITERATIONS REACHED LIMIT.\n",
            "\n",
            "Increase the number of iterations (max_iter) or scale the data as shown in:\n",
            "    https://scikit-learn.org/stable/modules/preprocessing.html\n",
            "Please also refer to the documentation for alternative solver options:\n",
            "    https://scikit-learn.org/stable/modules/linear_model.html#logistic-regression\n",
            "  extra_warning_msg=_LOGISTIC_SOLVER_CONVERGENCE_MSG)\n",
            "/usr/local/lib/python3.7/dist-packages/sklearn/linear_model/_logistic.py:940: ConvergenceWarning: lbfgs failed to converge (status=1):\n",
            "STOP: TOTAL NO. of ITERATIONS REACHED LIMIT.\n",
            "\n",
            "Increase the number of iterations (max_iter) or scale the data as shown in:\n",
            "    https://scikit-learn.org/stable/modules/preprocessing.html\n",
            "Please also refer to the documentation for alternative solver options:\n",
            "    https://scikit-learn.org/stable/modules/linear_model.html#logistic-regression\n",
            "  extra_warning_msg=_LOGISTIC_SOLVER_CONVERGENCE_MSG)\n",
            "/usr/local/lib/python3.7/dist-packages/sklearn/linear_model/_logistic.py:940: ConvergenceWarning: lbfgs failed to converge (status=1):\n",
            "STOP: TOTAL NO. of ITERATIONS REACHED LIMIT.\n",
            "\n",
            "Increase the number of iterations (max_iter) or scale the data as shown in:\n",
            "    https://scikit-learn.org/stable/modules/preprocessing.html\n",
            "Please also refer to the documentation for alternative solver options:\n",
            "    https://scikit-learn.org/stable/modules/linear_model.html#logistic-regression\n",
            "  extra_warning_msg=_LOGISTIC_SOLVER_CONVERGENCE_MSG)\n",
            "/usr/local/lib/python3.7/dist-packages/sklearn/linear_model/_logistic.py:940: ConvergenceWarning: lbfgs failed to converge (status=1):\n",
            "STOP: TOTAL NO. of ITERATIONS REACHED LIMIT.\n",
            "\n",
            "Increase the number of iterations (max_iter) or scale the data as shown in:\n",
            "    https://scikit-learn.org/stable/modules/preprocessing.html\n",
            "Please also refer to the documentation for alternative solver options:\n",
            "    https://scikit-learn.org/stable/modules/linear_model.html#logistic-regression\n",
            "  extra_warning_msg=_LOGISTIC_SOLVER_CONVERGENCE_MSG)\n",
            "/usr/local/lib/python3.7/dist-packages/sklearn/linear_model/_logistic.py:940: ConvergenceWarning: lbfgs failed to converge (status=1):\n",
            "STOP: TOTAL NO. of ITERATIONS REACHED LIMIT.\n",
            "\n",
            "Increase the number of iterations (max_iter) or scale the data as shown in:\n",
            "    https://scikit-learn.org/stable/modules/preprocessing.html\n",
            "Please also refer to the documentation for alternative solver options:\n",
            "    https://scikit-learn.org/stable/modules/linear_model.html#logistic-regression\n",
            "  extra_warning_msg=_LOGISTIC_SOLVER_CONVERGENCE_MSG)\n",
            "/usr/local/lib/python3.7/dist-packages/sklearn/linear_model/_logistic.py:940: ConvergenceWarning: lbfgs failed to converge (status=1):\n",
            "STOP: TOTAL NO. of ITERATIONS REACHED LIMIT.\n",
            "\n",
            "Increase the number of iterations (max_iter) or scale the data as shown in:\n",
            "    https://scikit-learn.org/stable/modules/preprocessing.html\n",
            "Please also refer to the documentation for alternative solver options:\n",
            "    https://scikit-learn.org/stable/modules/linear_model.html#logistic-regression\n",
            "  extra_warning_msg=_LOGISTIC_SOLVER_CONVERGENCE_MSG)\n",
            "/usr/local/lib/python3.7/dist-packages/sklearn/linear_model/_logistic.py:940: ConvergenceWarning: lbfgs failed to converge (status=1):\n",
            "STOP: TOTAL NO. of ITERATIONS REACHED LIMIT.\n",
            "\n",
            "Increase the number of iterations (max_iter) or scale the data as shown in:\n",
            "    https://scikit-learn.org/stable/modules/preprocessing.html\n",
            "Please also refer to the documentation for alternative solver options:\n",
            "    https://scikit-learn.org/stable/modules/linear_model.html#logistic-regression\n",
            "  extra_warning_msg=_LOGISTIC_SOLVER_CONVERGENCE_MSG)\n",
            "/usr/local/lib/python3.7/dist-packages/sklearn/linear_model/_logistic.py:940: ConvergenceWarning: lbfgs failed to converge (status=1):\n",
            "STOP: TOTAL NO. of ITERATIONS REACHED LIMIT.\n",
            "\n",
            "Increase the number of iterations (max_iter) or scale the data as shown in:\n",
            "    https://scikit-learn.org/stable/modules/preprocessing.html\n",
            "Please also refer to the documentation for alternative solver options:\n",
            "    https://scikit-learn.org/stable/modules/linear_model.html#logistic-regression\n",
            "  extra_warning_msg=_LOGISTIC_SOLVER_CONVERGENCE_MSG)\n",
            "/usr/local/lib/python3.7/dist-packages/sklearn/linear_model/_logistic.py:940: ConvergenceWarning: lbfgs failed to converge (status=1):\n",
            "STOP: TOTAL NO. of ITERATIONS REACHED LIMIT.\n",
            "\n",
            "Increase the number of iterations (max_iter) or scale the data as shown in:\n",
            "    https://scikit-learn.org/stable/modules/preprocessing.html\n",
            "Please also refer to the documentation for alternative solver options:\n",
            "    https://scikit-learn.org/stable/modules/linear_model.html#logistic-regression\n",
            "  extra_warning_msg=_LOGISTIC_SOLVER_CONVERGENCE_MSG)\n",
            "/usr/local/lib/python3.7/dist-packages/sklearn/linear_model/_logistic.py:940: ConvergenceWarning: lbfgs failed to converge (status=1):\n",
            "STOP: TOTAL NO. of ITERATIONS REACHED LIMIT.\n",
            "\n",
            "Increase the number of iterations (max_iter) or scale the data as shown in:\n",
            "    https://scikit-learn.org/stable/modules/preprocessing.html\n",
            "Please also refer to the documentation for alternative solver options:\n",
            "    https://scikit-learn.org/stable/modules/linear_model.html#logistic-regression\n",
            "  extra_warning_msg=_LOGISTIC_SOLVER_CONVERGENCE_MSG)\n",
            "/usr/local/lib/python3.7/dist-packages/sklearn/linear_model/_logistic.py:940: ConvergenceWarning: lbfgs failed to converge (status=1):\n",
            "STOP: TOTAL NO. of ITERATIONS REACHED LIMIT.\n",
            "\n",
            "Increase the number of iterations (max_iter) or scale the data as shown in:\n",
            "    https://scikit-learn.org/stable/modules/preprocessing.html\n",
            "Please also refer to the documentation for alternative solver options:\n",
            "    https://scikit-learn.org/stable/modules/linear_model.html#logistic-regression\n",
            "  extra_warning_msg=_LOGISTIC_SOLVER_CONVERGENCE_MSG)\n",
            "/usr/local/lib/python3.7/dist-packages/sklearn/linear_model/_logistic.py:940: ConvergenceWarning: lbfgs failed to converge (status=1):\n",
            "STOP: TOTAL NO. of ITERATIONS REACHED LIMIT.\n",
            "\n",
            "Increase the number of iterations (max_iter) or scale the data as shown in:\n",
            "    https://scikit-learn.org/stable/modules/preprocessing.html\n",
            "Please also refer to the documentation for alternative solver options:\n",
            "    https://scikit-learn.org/stable/modules/linear_model.html#logistic-regression\n",
            "  extra_warning_msg=_LOGISTIC_SOLVER_CONVERGENCE_MSG)\n",
            "/usr/local/lib/python3.7/dist-packages/sklearn/linear_model/_logistic.py:940: ConvergenceWarning: lbfgs failed to converge (status=1):\n",
            "STOP: TOTAL NO. of ITERATIONS REACHED LIMIT.\n",
            "\n",
            "Increase the number of iterations (max_iter) or scale the data as shown in:\n",
            "    https://scikit-learn.org/stable/modules/preprocessing.html\n",
            "Please also refer to the documentation for alternative solver options:\n",
            "    https://scikit-learn.org/stable/modules/linear_model.html#logistic-regression\n",
            "  extra_warning_msg=_LOGISTIC_SOLVER_CONVERGENCE_MSG)\n"
          ],
          "name": "stderr"
        },
        {
          "output_type": "execute_result",
          "data": {
            "text/plain": [
              "[0.9702598670981827,\n",
              " 0.9702598670981827,\n",
              " 0.9702598670981827,\n",
              " 0.9702598670981827,\n",
              " 0.9702598670981827,\n",
              " 0.9702598670981827,\n",
              " 0.9702598670981827,\n",
              " 0.9702598670981827,\n",
              " 0.9702598670981827,\n",
              " 0.9702598670981827,\n",
              " 0.9702598670981827,\n",
              " 0.9702598670981827,\n",
              " 0.9702598670981827,\n",
              " 0.9702598670981827,\n",
              " 0.9702598670981827,\n",
              " 0.9702598670981827,\n",
              " 0.9702598670981827,\n",
              " 0.9702598670981827,\n",
              " 0.9702598670981827]"
            ]
          },
          "metadata": {
            "tags": []
          },
          "execution_count": 46
        }
      ]
    },
    {
      "cell_type": "code",
      "metadata": {
        "colab": {
          "base_uri": "https://localhost:8080/"
        },
        "id": "6WlCW0sYU0Hk",
        "outputId": "bc51cf9d-e070-48e6-bbf9-b7a690c5f6e4"
      },
      "source": [
        "#random forest\n",
        "\n",
        "\n",
        "rfl=[]\n",
        "for i in range(1,8):\n",
        "  rfc = RandomForestClassifier()\n",
        "  rfc.fit(x_train, y_train)\n",
        "\n",
        "  rfc_predictions = rfc.predict(x_test)\n",
        "  rfl.append(accuracy_score(y_test, rfc_predictions))\n",
        "rfl"
      ],
      "execution_count": 51,
      "outputs": [
        {
          "output_type": "execute_result",
          "data": {
            "text/plain": [
              "[0.9852352591968441,\n",
              " 0.9853501599034834,\n",
              " 0.9852735594323905,\n",
              " 0.9851969589612977,\n",
              " 0.9852161090790709,\n",
              " 0.9853693100212566,\n",
              " 0.9849863076657921]"
            ]
          },
          "metadata": {
            "tags": []
          },
          "execution_count": 51
        }
      ]
    },
    {
      "cell_type": "code",
      "metadata": {
        "colab": {
          "base_uri": "https://localhost:8080/"
        },
        "id": "xJFikUEaVW7f",
        "outputId": "b2c2b505-b87e-4bd1-8297-8808d039b3b0"
      },
      "source": [
        "# neural network\n",
        "\n",
        "nnl=[]\n",
        "for i in range(1,8):\n",
        "  clf = MLPClassifier(random_state=42, max_iter=128,batch_size=64 ).fit(x_train, y_train)\n",
        "  nnl.append(clf.score(x_test, y_test))\n",
        "nnl"
      ],
      "execution_count": 52,
      "outputs": [
        {
          "output_type": "execute_result",
          "data": {
            "text/plain": [
              "[0.9789157203316801,\n",
              " 0.9789157203316801,\n",
              " 0.9789157203316801,\n",
              " 0.9789157203316801,\n",
              " 0.9789157203316801,\n",
              " 0.9789157203316801,\n",
              " 0.9789157203316801]"
            ]
          },
          "metadata": {
            "tags": []
          },
          "execution_count": 52
        }
      ]
    },
    {
      "cell_type": "code",
      "metadata": {
        "id": "wFG5uTvGWuRx"
      },
      "source": [
        "dtl = pd.DataFrame(dtl)\n",
        "lrl = pd.DataFrame(lrl)\n",
        "rfl = pd.DataFrame(rfl)\n",
        "nnl = pd.DataFrame(nnl)"
      ],
      "execution_count": 53,
      "outputs": []
    },
    {
      "cell_type": "code",
      "metadata": {
        "colab": {
          "base_uri": "https://localhost:8080/",
          "height": 526
        },
        "id": "f7Q8d06MV7Va",
        "outputId": "b9e29151-3f05-47ca-a036-baa0b0d3da7e"
      },
      "source": [
        "\n",
        "\n",
        "\n",
        "fig, ax = plt.subplots(figsize=(7.5,7.5))\n",
        "# Remove top and right border\n",
        "ax.spines['top'].set_visible(False)\n",
        "ax.spines['right'].set_visible(False)\n",
        "ax.spines['left'].set_visible(False)\n",
        "# Remove y-axis tick marks\n",
        "ax.yaxis.set_ticks_position('none')\n",
        "# Add major gridlines in the y-axis\n",
        "ax.grid(color='grey', axis='y', linestyle='-', linewidth=0.25, alpha=0.5)\n",
        "# Set plot title\n",
        "ax.set_title('RESULT TABLE')\n",
        "# Set species names as labels for the boxplot\n",
        "dataset = [dtl,lrl,rfl,nnl]\n",
        "labels = ['decision tree','logistic regression','random forest','neural network']\n",
        "ax.boxplot(dataset, labels=labels)\n",
        "plt.show()"
      ],
      "execution_count": 59,
      "outputs": [
        {
          "output_type": "stream",
          "text": [
            "/usr/local/lib/python3.7/dist-packages/numpy/core/_asarray.py:83: VisibleDeprecationWarning: Creating an ndarray from ragged nested sequences (which is a list-or-tuple of lists-or-tuples-or ndarrays with different lengths or shapes) is deprecated. If you meant to do this, you must specify 'dtype=object' when creating the ndarray\n",
            "  return array(a, dtype, copy=False, order=order)\n"
          ],
          "name": "stderr"
        },
        {
          "output_type": "display_data",
          "data": {
            "image/png": "[encoded data removed]",
            "text/plain": [
              "<Figure size 540x540 with 1 Axes>"
            ]
          },
          "metadata": {
            "tags": [],
            "needs_background": "light"
          }
        }
      ]
    },
    {
      "cell_type": "markdown",
      "metadata": {
        "id": "mnQEv75tb0e7"
      },
      "source": [
        "# we can see we got th best result in random forest"
      ]
    },
    {
      "cell_type": "code",
      "metadata": {
        "colab": {
          "base_uri": "https://localhost:8080/",
          "height": 466
        },
        "id": "2PZG0wMEZX49",
        "outputId": "7b02e576-126c-4198-fcfa-f8086ed974be"
      },
      "source": [
        "#showing authors boxplot\n",
        "from IPython.display import Image\n",
        "Image(filename='Capture.JPG') "
      ],
      "execution_count": 56,
      "outputs": [
        {
          "output_type": "execute_result",
          "data": {
            "image/jpeg": "[encoded data removed]",
            "text/plain": [
              "<IPython.core.display.Image object>"
            ]
          },
          "metadata": {
            "tags": []
          },
          "execution_count": 56
        }
      ]
    },
    {
      "cell_type": "code",
      "metadata": {
        "id": "Z3xW6HKEbQ9e"
      },
      "source": [
        ""
      ],
      "execution_count": null,
      "outputs": []
    }
  ]
}